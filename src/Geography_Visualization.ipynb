{
 "cells": [
  {
   "cell_type": "code",
   "execution_count": 1,
   "metadata": {
    "collapsed": true
   },
   "outputs": [],
   "source": [
    "import plotly \n",
    "import numpy as np\n",
    "import pandas as pd\n",
    "plotly.tools.set_credentials_file(username='mlohmus', api_key='zcN78l5yt8EXpvAHuZUm')"
   ]
  },
  {
   "cell_type": "code",
   "execution_count": 2,
   "metadata": {},
   "outputs": [],
   "source": [
    "dat = pd.read_csv('clean/macro/master_macro_cleaned_naics.csv',dtype=str, usecols=['CASE_SUBMITTED','EMPLOYER_NAME','EMPLOYER_CITY','EMPLOYER_STATE','WORKSITE_STATE','TOTAL_WORKERS','NAICS_CLASSIFICATION'])"
   ]
  },
  {
   "cell_type": "code",
   "execution_count": 3,
   "metadata": {},
   "outputs": [],
   "source": [
    "dat.CASE_SUBMITTED = pd.to_datetime(dat.CASE_SUBMITTED)\n",
    "dat['YEAR'] = dat.CASE_SUBMITTED.apply(lambda x: x.year)"
   ]
  },
  {
   "cell_type": "code",
   "execution_count": 22,
   "metadata": {
    "collapsed": true
   },
   "outputs": [],
   "source": [
    "dat.TOTAL_WORKERS=dat.TOTAL_WORKERS.astype(float)\n",
    "df = dat.groupby(['WORKSITE_STATE','YEAR'])[['TOTAL_WORKERS']].sum()\n",
    "df.columns=['TOTAL_WORKERS']\n",
    "df.reset_index(inplace=True)"
   ]
  },
  {
   "cell_type": "code",
   "execution_count": 26,
   "metadata": {},
   "outputs": [
    {
     "data": {
      "text/html": [
       "<iframe id=\"igraph\" scrolling=\"no\" style=\"border:none;\" seamless=\"seamless\" src=\"https://plot.ly/~mlohmus/6.embed\" height=\"525px\" width=\"100%\"></iframe>"
      ],
      "text/plain": [
       "<plotly.tools.PlotlyDisplay object>"
      ]
     },
     "execution_count": 26,
     "metadata": {},
     "output_type": "execute_result"
    }
   ],
   "source": [
    "#plotly.offline.init_notebook_mode()\n",
    "#df = pd.read_csv('https://raw.githubusercontent.com/plotly/datasets/master/2011_us_ag_exports.csv')\n",
    "\n",
    "scl = [[0.0, 'rgb(242,240,247)'],[0.2, 'rgb(218,218,235)'],[0.4, 'rgb(188,189,220)'],\\\n",
    "            [0.6, 'rgb(158,154,200)'],[0.8, 'rgb(117,107,177)'],[1.0, 'rgb(84,39,143)']]\n",
    "\n",
    "data = []\n",
    "for i in range(2001,2018):\n",
    "    data.append(dict(\n",
    "        type='choropleth',\n",
    "        colorscale = scl,\n",
    "        autocolorscale = False,\n",
    "        locations = df[df.YEAR==i]['WORKSITE_STATE'],\n",
    "        z = df[df.YEAR==i]['TOTAL_WORKERS'].astype(float),\n",
    "        locationmode = 'USA-states',\n",
    "        text =df[df.YEAR==i]['WORKSITE_STATE'],\n",
    "        marker = dict(\n",
    "            line = dict (\n",
    "                color = 'rgb(255,255,255)',\n",
    "                width = 2\n",
    "            ) ),\n",
    "        colorbar = dict(\n",
    "            title = \"# Workers Requested\")\n",
    "        ) )\n",
    "\n",
    "layout = dict(\n",
    "        title = 'LCA Requests by State',\n",
    "        geo = dict(\n",
    "            scope='usa',\n",
    "            projection=dict( type='albers usa' ),\n",
    "            showlakes = True,\n",
    "            lakecolor = 'rgb(255, 255, 255)'),\n",
    "             )\n",
    "\n",
    "# let's create the steps for the slider\n",
    "steps = []\n",
    "for i in range(len(data)):\n",
    "    step = dict(method='restyle',\n",
    "                args=['visible', [False] * len(data)],\n",
    "                label='Year {}'.format(i + 2001))\n",
    "    step['args'][1][i] = True\n",
    "    steps.append(step)\n",
    "\n",
    "sliders = [dict(active=0,\n",
    "                pad={\"t\": 1},\n",
    "                steps=steps)] \n",
    "\n",
    "layout['sliders'] = sliders\n",
    "\n",
    "fig = dict(data=data, \n",
    "           layout=layout)\n",
    "\n",
    "py.iplot(fig, filename='Sine Wave Slider')"
   ]
  },
  {
   "cell_type": "code",
   "execution_count": null,
   "metadata": {
    "collapsed": true
   },
   "outputs": [],
   "source": []
  }
 ],
 "metadata": {
  "kernelspec": {
   "display_name": "Python [conda root]",
   "language": "python",
   "name": "conda-root-py"
  },
  "language_info": {
   "codemirror_mode": {
    "name": "ipython",
    "version": 3
   },
   "file_extension": ".py",
   "mimetype": "text/x-python",
   "name": "python",
   "nbconvert_exporter": "python",
   "pygments_lexer": "ipython3",
   "version": "3.5.3"
  }
 },
 "nbformat": 4,
 "nbformat_minor": 2
}
