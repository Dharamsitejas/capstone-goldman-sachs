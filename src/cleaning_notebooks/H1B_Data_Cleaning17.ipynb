{
 "cells": [
  {
   "cell_type": "code",
   "execution_count": 1,
   "metadata": {
    "collapsed": false
   },
   "outputs": [],
   "source": [
    "import pandas as pd\n",
    "import numpy as np\n",
    "import re\n",
    "import os\n",
    "import utils \n",
    "import string\n",
    "\n",
    "pd.options.display.max_columns = 100\n",
    "pd.options.display.max_rows = 1000"
   ]
  },
  {
   "cell_type": "code",
   "execution_count": 2,
   "metadata": {
    "collapsed": false
   },
   "outputs": [],
   "source": [
    "data_dir = \"data/\"\n",
    "\n",
    "files = [\"H-1B_Disclosure_Data_FY16.xlsx\", \n",
    "            \"H-1B_Disclosure_Data_FY15_Q4.xlsx\", \n",
    "            \"H-1B_Disclosure_Data_FY17.xlsx\"]\n",
    "\n"
   ]
  },
  {
   "cell_type": "code",
   "execution_count": 3,
   "metadata": {
    "collapsed": false
   },
   "outputs": [],
   "source": [
    "data = pd.read_excel(data_dir + files[2])"
   ]
  },
  {
   "cell_type": "code",
   "execution_count": 4,
   "metadata": {
    "collapsed": false,
    "scrolled": true
   },
   "outputs": [
    {
     "name": "stdout",
     "output_type": "stream",
     "text": [
      "['CASE_NUMBER', 'CASE_STATUS', 'CASE_SUBMITTED', 'DECISION_DATE', 'VISA_CLASS', 'EMPLOYMENT_START_DATE', 'EMPLOYMENT_END_DATE', 'EMPLOYER_NAME', 'EMPLOYER_ADDRESS', 'EMPLOYER_CITY', 'EMPLOYER_STATE', 'EMPLOYER_POSTAL_CODE', 'EMPLOYER_COUNTRY', 'EMPLOYER_PROVINCE', 'EMPLOYER_PHONE', 'EMPLOYER_PHONE_EXT', 'AGENT_ATTORNEY_NAME', 'AGENT_ATTORNEY_CITY', 'AGENT_ATTORNEY_STATE', 'JOB_TITLE', 'SOC_CODE', 'SOC_NAME', 'NAICS_CODE', 'TOTAL_WORKERS', 'FULL_TIME_POSITION', 'PREVAILING_WAGE', 'PW_UNIT_OF_PAY', 'PW_SOURCE', 'PW_SOURCE_YEAR', 'PW_SOURCE_OTHER', 'WAGE_RATE_OF_PAY_FROM', 'WAGE_RATE_OF_PAY_TO', 'WAGE_UNIT_OF_PAY', 'H-1B_DEPENDENT', 'WILLFUL_VIOLATOR', 'WORKSITE_CITY', 'WORKSITE_COUNTY', 'WORKSITE_STATE', 'WORKSITE_POSTAL_CODE', 'ORIGINAL_CERT_DATE']\n",
      "CASE_NUMBER                      object\n",
      "CASE_STATUS                      object\n",
      "CASE_SUBMITTED           datetime64[ns]\n",
      "DECISION_DATE            datetime64[ns]\n",
      "VISA_CLASS                       object\n",
      "EMPLOYMENT_START_DATE    datetime64[ns]\n",
      "EMPLOYMENT_END_DATE      datetime64[ns]\n",
      "EMPLOYER_NAME                    object\n",
      "EMPLOYER_ADDRESS                 object\n",
      "EMPLOYER_CITY                    object\n",
      "EMPLOYER_STATE                   object\n",
      "EMPLOYER_POSTAL_CODE             object\n",
      "EMPLOYER_COUNTRY                 object\n",
      "EMPLOYER_PROVINCE                object\n",
      "EMPLOYER_PHONE                   object\n",
      "EMPLOYER_PHONE_EXT               object\n",
      "AGENT_ATTORNEY_NAME              object\n",
      "AGENT_ATTORNEY_CITY              object\n",
      "AGENT_ATTORNEY_STATE             object\n",
      "JOB_TITLE                        object\n",
      "SOC_CODE                         object\n",
      "SOC_NAME                         object\n",
      "NAICS_CODE                      float64\n",
      "TOTAL_WORKERS                     int64\n",
      "FULL_TIME_POSITION               object\n",
      "PREVAILING_WAGE                 float64\n",
      "PW_UNIT_OF_PAY                   object\n",
      "PW_SOURCE                        object\n",
      "PW_SOURCE_YEAR                  float64\n",
      "PW_SOURCE_OTHER                  object\n",
      "WAGE_RATE_OF_PAY_FROM           float64\n",
      "WAGE_RATE_OF_PAY_TO             float64\n",
      "WAGE_UNIT_OF_PAY                 object\n",
      "H-1B_DEPENDENT                   object\n",
      "WILLFUL_VIOLATOR                 object\n",
      "WORKSITE_CITY                    object\n",
      "WORKSITE_COUNTY                  object\n",
      "WORKSITE_STATE                   object\n",
      "WORKSITE_POSTAL_CODE             object\n",
      "ORIGINAL_CERT_DATE       datetime64[ns]\n",
      "dtype: object\n"
     ]
    }
   ],
   "source": [
    "columns = list(data)\n",
    "print(columns)\n",
    "print(data.dtypes)\n"
   ]
  },
  {
   "cell_type": "code",
   "execution_count": 5,
   "metadata": {
    "collapsed": false
   },
   "outputs": [
    {
     "data": {
      "text/html": [
       "<div>\n",
       "<table border=\"1\" class=\"dataframe\">\n",
       "  <thead>\n",
       "    <tr style=\"text-align: right;\">\n",
       "      <th></th>\n",
       "      <th>CASE_NUMBER</th>\n",
       "      <th>CASE_STATUS</th>\n",
       "      <th>CASE_SUBMITTED</th>\n",
       "      <th>DECISION_DATE</th>\n",
       "      <th>VISA_CLASS</th>\n",
       "      <th>EMPLOYMENT_START_DATE</th>\n",
       "      <th>EMPLOYMENT_END_DATE</th>\n",
       "      <th>EMPLOYER_NAME</th>\n",
       "      <th>EMPLOYER_ADDRESS</th>\n",
       "      <th>EMPLOYER_CITY</th>\n",
       "      <th>EMPLOYER_STATE</th>\n",
       "      <th>EMPLOYER_POSTAL_CODE</th>\n",
       "      <th>EMPLOYER_COUNTRY</th>\n",
       "      <th>EMPLOYER_PROVINCE</th>\n",
       "      <th>EMPLOYER_PHONE</th>\n",
       "      <th>EMPLOYER_PHONE_EXT</th>\n",
       "      <th>AGENT_ATTORNEY_NAME</th>\n",
       "      <th>AGENT_ATTORNEY_CITY</th>\n",
       "      <th>AGENT_ATTORNEY_STATE</th>\n",
       "      <th>JOB_TITLE</th>\n",
       "      <th>SOC_CODE</th>\n",
       "      <th>SOC_NAME</th>\n",
       "      <th>NAICS_CODE</th>\n",
       "      <th>TOTAL_WORKERS</th>\n",
       "      <th>FULL_TIME_POSITION</th>\n",
       "      <th>PREVAILING_WAGE</th>\n",
       "      <th>PW_UNIT_OF_PAY</th>\n",
       "      <th>PW_SOURCE</th>\n",
       "      <th>PW_SOURCE_YEAR</th>\n",
       "      <th>PW_SOURCE_OTHER</th>\n",
       "      <th>WAGE_RATE_OF_PAY_FROM</th>\n",
       "      <th>WAGE_RATE_OF_PAY_TO</th>\n",
       "      <th>WAGE_UNIT_OF_PAY</th>\n",
       "      <th>H-1B_DEPENDENT</th>\n",
       "      <th>WILLFUL_VIOLATOR</th>\n",
       "      <th>WORKSITE_CITY</th>\n",
       "      <th>WORKSITE_COUNTY</th>\n",
       "      <th>WORKSITE_STATE</th>\n",
       "      <th>WORKSITE_POSTAL_CODE</th>\n",
       "      <th>ORIGINAL_CERT_DATE</th>\n",
       "    </tr>\n",
       "  </thead>\n",
       "  <tbody>\n",
       "    <tr>\n",
       "      <th>0</th>\n",
       "      <td>I-200-16055-173457</td>\n",
       "      <td>CERTIFIED-WITHDRAWN</td>\n",
       "      <td>2016-02-24</td>\n",
       "      <td>2016-10-01</td>\n",
       "      <td>H-1B</td>\n",
       "      <td>2016-08-10</td>\n",
       "      <td>2019-08-10</td>\n",
       "      <td>DISCOVER PRODUCTS INC.</td>\n",
       "      <td>2500 LAKE COOK ROAD</td>\n",
       "      <td>RIVERWOODS</td>\n",
       "      <td>IL</td>\n",
       "      <td>60015</td>\n",
       "      <td>UNITED STATES OF AMERICA</td>\n",
       "      <td>NaN</td>\n",
       "      <td>2244050900</td>\n",
       "      <td>NaN</td>\n",
       "      <td>ELLSWORTH, CHAD</td>\n",
       "      <td>NEW YORK</td>\n",
       "      <td>NY</td>\n",
       "      <td>ASSOCIATE DATA INTEGRATION</td>\n",
       "      <td>15-1121</td>\n",
       "      <td>COMPUTER SYSTEMS ANALYSTS</td>\n",
       "      <td>522210.0</td>\n",
       "      <td>1</td>\n",
       "      <td>Y</td>\n",
       "      <td>59197.0</td>\n",
       "      <td>Year</td>\n",
       "      <td>OES</td>\n",
       "      <td>2015.0</td>\n",
       "      <td>OFLC ONLINE DATA CENTER</td>\n",
       "      <td>65811.0</td>\n",
       "      <td>67320.0</td>\n",
       "      <td>Year</td>\n",
       "      <td>N</td>\n",
       "      <td>N</td>\n",
       "      <td>RIVERWOODS</td>\n",
       "      <td>LAKE</td>\n",
       "      <td>IL</td>\n",
       "      <td>60015</td>\n",
       "      <td>2016-03-01</td>\n",
       "    </tr>\n",
       "    <tr>\n",
       "      <th>1</th>\n",
       "      <td>I-200-16064-557834</td>\n",
       "      <td>CERTIFIED-WITHDRAWN</td>\n",
       "      <td>2016-03-04</td>\n",
       "      <td>2016-10-01</td>\n",
       "      <td>H-1B</td>\n",
       "      <td>2016-08-16</td>\n",
       "      <td>2019-08-16</td>\n",
       "      <td>DFS SERVICES LLC</td>\n",
       "      <td>2500 LAKE COOK ROAD</td>\n",
       "      <td>RIVERWOODS</td>\n",
       "      <td>IL</td>\n",
       "      <td>60015</td>\n",
       "      <td>UNITED STATES OF AMERICA</td>\n",
       "      <td>NaN</td>\n",
       "      <td>2244050900</td>\n",
       "      <td>NaN</td>\n",
       "      <td>ELLSWORTH, CHAD</td>\n",
       "      <td>NEW YORK</td>\n",
       "      <td>NY</td>\n",
       "      <td>SENIOR ASSOCIATE</td>\n",
       "      <td>15-2031</td>\n",
       "      <td>OPERATIONS RESEARCH ANALYSTS</td>\n",
       "      <td>522210.0</td>\n",
       "      <td>1</td>\n",
       "      <td>Y</td>\n",
       "      <td>49800.0</td>\n",
       "      <td>Year</td>\n",
       "      <td>Other</td>\n",
       "      <td>2015.0</td>\n",
       "      <td>TOWERS WATSON DATA SERVICES 2015 CSR PROFESSIO...</td>\n",
       "      <td>53000.0</td>\n",
       "      <td>57200.0</td>\n",
       "      <td>Year</td>\n",
       "      <td>N</td>\n",
       "      <td>N</td>\n",
       "      <td>RIVERWOODS</td>\n",
       "      <td>LAKE</td>\n",
       "      <td>IL</td>\n",
       "      <td>60015</td>\n",
       "      <td>2016-03-08</td>\n",
       "    </tr>\n",
       "    <tr>\n",
       "      <th>2</th>\n",
       "      <td>I-200-16063-996093</td>\n",
       "      <td>CERTIFIED-WITHDRAWN</td>\n",
       "      <td>2016-03-10</td>\n",
       "      <td>2016-10-01</td>\n",
       "      <td>H-1B</td>\n",
       "      <td>2016-09-09</td>\n",
       "      <td>2019-09-09</td>\n",
       "      <td>EASTBANC TECHNOLOGIES LLC</td>\n",
       "      <td>1211 31ST ST. NW</td>\n",
       "      <td>WASHINGTON</td>\n",
       "      <td>DC</td>\n",
       "      <td>20007</td>\n",
       "      <td>UNITED STATES OF AMERICA</td>\n",
       "      <td>NaN</td>\n",
       "      <td>2022953000</td>\n",
       "      <td>NaN</td>\n",
       "      <td>BURKE, KAREN</td>\n",
       "      <td>WASHINGTON</td>\n",
       "      <td>DC</td>\n",
       "      <td>.NET SOFTWARE PROGRAMMER</td>\n",
       "      <td>15-1131</td>\n",
       "      <td>COMPUTER PROGRAMMERS</td>\n",
       "      <td>541511.0</td>\n",
       "      <td>2</td>\n",
       "      <td>Y</td>\n",
       "      <td>76502.0</td>\n",
       "      <td>Year</td>\n",
       "      <td>OES</td>\n",
       "      <td>2015.0</td>\n",
       "      <td>OFLC ONLINE DATA CENTER</td>\n",
       "      <td>77000.0</td>\n",
       "      <td>0.0</td>\n",
       "      <td>Year</td>\n",
       "      <td>Y</td>\n",
       "      <td>N</td>\n",
       "      <td>WASHINGTON</td>\n",
       "      <td>NaN</td>\n",
       "      <td>DC</td>\n",
       "      <td>20007</td>\n",
       "      <td>2016-03-16</td>\n",
       "    </tr>\n",
       "    <tr>\n",
       "      <th>3</th>\n",
       "      <td>I-200-16272-196340</td>\n",
       "      <td>WITHDRAWN</td>\n",
       "      <td>2016-09-28</td>\n",
       "      <td>2016-10-01</td>\n",
       "      <td>H-1B</td>\n",
       "      <td>2017-01-26</td>\n",
       "      <td>2020-01-25</td>\n",
       "      <td>INFO SERVICES LLC</td>\n",
       "      <td>17177 NORTH LAUREL PARK DR</td>\n",
       "      <td>LIVONIA</td>\n",
       "      <td>MI</td>\n",
       "      <td>48152</td>\n",
       "      <td>UNITED STATES OF AMERICA</td>\n",
       "      <td>NaN</td>\n",
       "      <td>7343776007</td>\n",
       "      <td>NaN</td>\n",
       "      <td>,</td>\n",
       "      <td>NaN</td>\n",
       "      <td>NaN</td>\n",
       "      <td>PROJECT MANAGER</td>\n",
       "      <td>15-1199</td>\n",
       "      <td>COMPUTER OCCUPATIONS, ALL OTHER</td>\n",
       "      <td>541511.0</td>\n",
       "      <td>1</td>\n",
       "      <td>Y</td>\n",
       "      <td>90376.0</td>\n",
       "      <td>Year</td>\n",
       "      <td>OES</td>\n",
       "      <td>2016.0</td>\n",
       "      <td>OFLC ONLINE DATA CENTER</td>\n",
       "      <td>102000.0</td>\n",
       "      <td>0.0</td>\n",
       "      <td>Year</td>\n",
       "      <td>Y</td>\n",
       "      <td>N</td>\n",
       "      <td>JERSEY CITY</td>\n",
       "      <td>HUDSON</td>\n",
       "      <td>NJ</td>\n",
       "      <td>07302</td>\n",
       "      <td>NaT</td>\n",
       "    </tr>\n",
       "    <tr>\n",
       "      <th>4</th>\n",
       "      <td>I-200-15053-636744</td>\n",
       "      <td>CERTIFIED-WITHDRAWN</td>\n",
       "      <td>2015-02-22</td>\n",
       "      <td>2016-10-02</td>\n",
       "      <td>H-1B</td>\n",
       "      <td>2015-03-01</td>\n",
       "      <td>2018-03-01</td>\n",
       "      <td>BB&amp;T CORPORATION</td>\n",
       "      <td>223 WEST NASH STREET</td>\n",
       "      <td>WILSON</td>\n",
       "      <td>NC</td>\n",
       "      <td>27893</td>\n",
       "      <td>UNITED STATES OF AMERICA</td>\n",
       "      <td>NaN</td>\n",
       "      <td>2522462031</td>\n",
       "      <td>NaN</td>\n",
       "      <td>SCOFIELD, EILEEN</td>\n",
       "      <td>ATLANTA</td>\n",
       "      <td>GA</td>\n",
       "      <td>ASSOCIATE - ESOTERIC ASSET BACKED SECURITIES</td>\n",
       "      <td>13-2041</td>\n",
       "      <td>CREDIT ANALYSTS</td>\n",
       "      <td>522110.0</td>\n",
       "      <td>1</td>\n",
       "      <td>Y</td>\n",
       "      <td>116605.0</td>\n",
       "      <td>Year</td>\n",
       "      <td>OES</td>\n",
       "      <td>2015.0</td>\n",
       "      <td>OFLC ONLINE DATA CENTER</td>\n",
       "      <td>132500.0</td>\n",
       "      <td>0.0</td>\n",
       "      <td>Year</td>\n",
       "      <td>N</td>\n",
       "      <td>N</td>\n",
       "      <td>NEW YORK</td>\n",
       "      <td>NEW YORK</td>\n",
       "      <td>NY</td>\n",
       "      <td>10036</td>\n",
       "      <td>2015-02-26</td>\n",
       "    </tr>\n",
       "  </tbody>\n",
       "</table>\n",
       "</div>"
      ],
      "text/plain": [
       "          CASE_NUMBER          CASE_STATUS CASE_SUBMITTED DECISION_DATE  \\\n",
       "0  I-200-16055-173457  CERTIFIED-WITHDRAWN     2016-02-24    2016-10-01   \n",
       "1  I-200-16064-557834  CERTIFIED-WITHDRAWN     2016-03-04    2016-10-01   \n",
       "2  I-200-16063-996093  CERTIFIED-WITHDRAWN     2016-03-10    2016-10-01   \n",
       "3  I-200-16272-196340            WITHDRAWN     2016-09-28    2016-10-01   \n",
       "4  I-200-15053-636744  CERTIFIED-WITHDRAWN     2015-02-22    2016-10-02   \n",
       "\n",
       "  VISA_CLASS EMPLOYMENT_START_DATE EMPLOYMENT_END_DATE  \\\n",
       "0       H-1B            2016-08-10          2019-08-10   \n",
       "1       H-1B            2016-08-16          2019-08-16   \n",
       "2       H-1B            2016-09-09          2019-09-09   \n",
       "3       H-1B            2017-01-26          2020-01-25   \n",
       "4       H-1B            2015-03-01          2018-03-01   \n",
       "\n",
       "               EMPLOYER_NAME            EMPLOYER_ADDRESS EMPLOYER_CITY  \\\n",
       "0     DISCOVER PRODUCTS INC.         2500 LAKE COOK ROAD    RIVERWOODS   \n",
       "1           DFS SERVICES LLC         2500 LAKE COOK ROAD    RIVERWOODS   \n",
       "2  EASTBANC TECHNOLOGIES LLC            1211 31ST ST. NW    WASHINGTON   \n",
       "3          INFO SERVICES LLC  17177 NORTH LAUREL PARK DR       LIVONIA   \n",
       "4           BB&T CORPORATION        223 WEST NASH STREET        WILSON   \n",
       "\n",
       "  EMPLOYER_STATE EMPLOYER_POSTAL_CODE          EMPLOYER_COUNTRY  \\\n",
       "0             IL                60015  UNITED STATES OF AMERICA   \n",
       "1             IL                60015  UNITED STATES OF AMERICA   \n",
       "2             DC                20007  UNITED STATES OF AMERICA   \n",
       "3             MI                48152  UNITED STATES OF AMERICA   \n",
       "4             NC                27893  UNITED STATES OF AMERICA   \n",
       "\n",
       "  EMPLOYER_PROVINCE EMPLOYER_PHONE EMPLOYER_PHONE_EXT AGENT_ATTORNEY_NAME  \\\n",
       "0               NaN     2244050900                NaN     ELLSWORTH, CHAD   \n",
       "1               NaN     2244050900                NaN     ELLSWORTH, CHAD   \n",
       "2               NaN     2022953000                NaN        BURKE, KAREN   \n",
       "3               NaN     7343776007                NaN                   ,   \n",
       "4               NaN     2522462031                NaN    SCOFIELD, EILEEN   \n",
       "\n",
       "  AGENT_ATTORNEY_CITY AGENT_ATTORNEY_STATE  \\\n",
       "0            NEW YORK                   NY   \n",
       "1            NEW YORK                   NY   \n",
       "2          WASHINGTON                   DC   \n",
       "3                 NaN                  NaN   \n",
       "4             ATLANTA                   GA   \n",
       "\n",
       "                                      JOB_TITLE SOC_CODE  \\\n",
       "0                    ASSOCIATE DATA INTEGRATION  15-1121   \n",
       "1                              SENIOR ASSOCIATE  15-2031   \n",
       "2                      .NET SOFTWARE PROGRAMMER  15-1131   \n",
       "3                               PROJECT MANAGER  15-1199   \n",
       "4  ASSOCIATE - ESOTERIC ASSET BACKED SECURITIES  13-2041   \n",
       "\n",
       "                          SOC_NAME  NAICS_CODE  TOTAL_WORKERS  \\\n",
       "0        COMPUTER SYSTEMS ANALYSTS    522210.0              1   \n",
       "1     OPERATIONS RESEARCH ANALYSTS    522210.0              1   \n",
       "2             COMPUTER PROGRAMMERS    541511.0              2   \n",
       "3  COMPUTER OCCUPATIONS, ALL OTHER    541511.0              1   \n",
       "4                  CREDIT ANALYSTS    522110.0              1   \n",
       "\n",
       "  FULL_TIME_POSITION  PREVAILING_WAGE PW_UNIT_OF_PAY PW_SOURCE  \\\n",
       "0                  Y          59197.0           Year       OES   \n",
       "1                  Y          49800.0           Year     Other   \n",
       "2                  Y          76502.0           Year       OES   \n",
       "3                  Y          90376.0           Year       OES   \n",
       "4                  Y         116605.0           Year       OES   \n",
       "\n",
       "   PW_SOURCE_YEAR                                    PW_SOURCE_OTHER  \\\n",
       "0          2015.0                            OFLC ONLINE DATA CENTER   \n",
       "1          2015.0  TOWERS WATSON DATA SERVICES 2015 CSR PROFESSIO...   \n",
       "2          2015.0                            OFLC ONLINE DATA CENTER   \n",
       "3          2016.0                            OFLC ONLINE DATA CENTER   \n",
       "4          2015.0                            OFLC ONLINE DATA CENTER   \n",
       "\n",
       "   WAGE_RATE_OF_PAY_FROM  WAGE_RATE_OF_PAY_TO WAGE_UNIT_OF_PAY H-1B_DEPENDENT  \\\n",
       "0                65811.0              67320.0             Year              N   \n",
       "1                53000.0              57200.0             Year              N   \n",
       "2                77000.0                  0.0             Year              Y   \n",
       "3               102000.0                  0.0             Year              Y   \n",
       "4               132500.0                  0.0             Year              N   \n",
       "\n",
       "  WILLFUL_VIOLATOR WORKSITE_CITY WORKSITE_COUNTY WORKSITE_STATE  \\\n",
       "0                N    RIVERWOODS            LAKE             IL   \n",
       "1                N    RIVERWOODS            LAKE             IL   \n",
       "2                N    WASHINGTON             NaN             DC   \n",
       "3                N   JERSEY CITY          HUDSON             NJ   \n",
       "4                N      NEW YORK        NEW YORK             NY   \n",
       "\n",
       "  WORKSITE_POSTAL_CODE ORIGINAL_CERT_DATE  \n",
       "0                60015         2016-03-01  \n",
       "1                60015         2016-03-08  \n",
       "2                20007         2016-03-16  \n",
       "3                07302                NaT  \n",
       "4                10036         2015-02-26  "
      ]
     },
     "execution_count": 5,
     "metadata": {},
     "output_type": "execute_result"
    }
   ],
   "source": [
    "data.head()"
   ]
  },
  {
   "cell_type": "code",
   "execution_count": 6,
   "metadata": {
    "collapsed": false
   },
   "outputs": [
    {
     "name": "stdout",
     "output_type": "stream",
     "text": [
      "528146\n"
     ]
    }
   ],
   "source": [
    "print(len(data))"
   ]
  },
  {
   "cell_type": "code",
   "execution_count": 7,
   "metadata": {
    "collapsed": false
   },
   "outputs": [
    {
     "name": "stdout",
     "output_type": "stream",
     "text": [
      "528146\n"
     ]
    }
   ],
   "source": [
    "print(len(data.CASE_NUMBER.unique()))"
   ]
  },
  {
   "cell_type": "code",
   "execution_count": 8,
   "metadata": {
    "collapsed": false
   },
   "outputs": [
    {
     "name": "stdout",
     "output_type": "stream",
     "text": [
      "['CERTIFIED-WITHDRAWN' 'WITHDRAWN' 'CERTIFIED' 'DENIED']\n"
     ]
    }
   ],
   "source": [
    "print(data.CASE_STATUS.unique())"
   ]
  },
  {
   "cell_type": "code",
   "execution_count": 9,
   "metadata": {
    "collapsed": false
   },
   "outputs": [
    {
     "name": "stdout",
     "output_type": "stream",
     "text": [
      "['H-1B' 'E-3 Australian' 'H-1B1 Singapore' 'H-1B1 Chile']\n"
     ]
    }
   ],
   "source": [
    "print(data.VISA_CLASS.unique())"
   ]
  },
  {
   "cell_type": "code",
   "execution_count": 10,
   "metadata": {
    "collapsed": false
   },
   "outputs": [
    {
     "data": {
      "text/plain": [
       "0"
      ]
     },
     "execution_count": 10,
     "metadata": {},
     "output_type": "execute_result"
    }
   ],
   "source": [
    "data.CASE_SUBMITTED.isnull().sum()"
   ]
  },
  {
   "cell_type": "code",
   "execution_count": 11,
   "metadata": {
    "collapsed": false
   },
   "outputs": [
    {
     "data": {
      "text/plain": [
       "0"
      ]
     },
     "execution_count": 11,
     "metadata": {},
     "output_type": "execute_result"
    }
   ],
   "source": [
    "data.DECISION_DATE.isnull().sum()"
   ]
  },
  {
   "cell_type": "code",
   "execution_count": 12,
   "metadata": {
    "collapsed": false
   },
   "outputs": [],
   "source": [
    "data['CASE_SUBMITTED'] = data['CASE_SUBMITTED'].dt.strftime('%Y-%m-%d')\n",
    "data['DECISION_DATE'] = data['DECISION_DATE'].dt.strftime('%Y-%m-%d')"
   ]
  },
  {
   "cell_type": "code",
   "execution_count": 13,
   "metadata": {
    "collapsed": false
   },
   "outputs": [
    {
     "data": {
      "text/plain": [
       "6"
      ]
     },
     "execution_count": 13,
     "metadata": {},
     "output_type": "execute_result"
    }
   ],
   "source": [
    "data.EMPLOYER_ADDRESS.isnull().sum()"
   ]
  },
  {
   "cell_type": "code",
   "execution_count": 14,
   "metadata": {
    "collapsed": false
   },
   "outputs": [],
   "source": [
    "data['EMPLOYER_ADDRESS'] = data['EMPLOYER_ADDRESS'].apply(utils.emp_address)"
   ]
  },
  {
   "cell_type": "code",
   "execution_count": 15,
   "metadata": {
    "collapsed": false
   },
   "outputs": [
    {
     "data": {
      "text/plain": [
       "15"
      ]
     },
     "execution_count": 15,
     "metadata": {},
     "output_type": "execute_result"
    }
   ],
   "source": [
    "data.EMPLOYER_POSTAL_CODE.isnull().sum()"
   ]
  },
  {
   "cell_type": "code",
   "execution_count": 16,
   "metadata": {
    "collapsed": false
   },
   "outputs": [
    {
     "name": "stdout",
     "output_type": "stream",
     "text": [
      "Not a number:  L0S ANGELES\n",
      "zip code error:  300341\n",
      "Not a number:  CA\n",
      "Not a number:  V6J 1C7\n",
      "Not a number:  V6J 1C7\n",
      "zip code error:  882017630014\n",
      "zip code error:  926002\n",
      "Not a number:  V6J 1C7\n",
      "Not a number:  NEW Y0RK\n",
      "Not a number:  V6J 1C7\n",
      "zip code error:  372075\n",
      "zip code error:  752147\n",
      "Not a number:  CA\n",
      "zip code error:  440077\n",
      "Not a number:  TINIAN\n",
      "zip code error:  372075\n",
      "Not a number:  0T65208224\n",
      "Not a number:  V6J 1C7\n",
      "zip code error:  238220\n",
      "zip code error:  9\n",
      "zip code error:  541512\n",
      "Not a number:  nan\n",
      "Not a number:  SAN FRANCISC0\n",
      "zip code error:  926141\n",
      "Not a number:  nan\n",
      "Not a number:  GARDEN GR0VE\n",
      "Not a number:  W00DCLIFF LAKE\n",
      "zip code error:  511210\n",
      "zip code error:  9739090360\n",
      "zip code error:  080021\n",
      "Not a number:  TARRANT\n",
      "zip code error:  787558\n",
      "zip code error:  9739090360\n",
      "zip code error:  484369\n",
      "Not a number:  CA\n",
      "Not a number:  nan\n",
      "Not a number:  V6J 1C7\n",
      "zip code error:  675205\n",
      "Not a number:  SAN FRANCISC0\n",
      "Not a number:  NEW Y0RK\n",
      "Not a number:  NY\n",
      "zip code error:  088902\n",
      "Not a number:  nan\n",
      "zip code error:  797047\n",
      "zip code error:  945054\n",
      "Not a number:  NEW Y0RK\n",
      "zip code error:  713990\n",
      "Not a number:  nan\n",
      "Not a number:  SAN FRANCISC0\n",
      "Not a number:  USA\n",
      "Not a number:  nan\n",
      "Not a number:  NEW Y0RK\n",
      "zip code error:  370247\n",
      "Not a number:  nan\n",
      "Not a number:  NEW Y0RK\n",
      "Not a number:  NEW Y0RK\n",
      "Not a number:  NEW Y0RK\n",
      "Not a number:  NEW Y0RK\n",
      "zip code error:  541110\n",
      "Not a number:  SAN FRANCISC0\n",
      "Not a number:  nan\n",
      "zip code error:  1\n",
      "Not a number:  0TTAWA\n",
      "zip code error:  511210\n",
      "zip code error:  336111\n",
      "zip code error:  118003\n",
      "zip code error:  541611\n",
      "Not a number:  DEKALB\n",
      "zip code error:  201475\n",
      "zip code error:  541611\n",
      "zip code error:  303018\n",
      "Not a number:  GARDEN GR0VE\n",
      "Not a number:  V6J 1C7\n",
      "zip code error:  980390\n",
      "zip code error:  926543\n",
      "Not a number:  C00K\n",
      "Not a number:  NEW Y0RK\n",
      "zip code error:  008852\n",
      "Not a number:  FULT0N\n",
      "Not a number:  ALAMEDA\n",
      "Not a number:  SAN FRANCISC0\n",
      "Not a number:  ALAMEDA\n",
      "zip code error:  941111\n",
      "zip code error:  622110\n",
      "zip code error:  773339\n",
      "zip code error:  016158\n",
      "zip code error:  900010\n",
      "Not a number:  nan\n",
      "Not a number:  C00K\n",
      "Not a number:  nan\n",
      "Not a number:  S0U91733\n",
      "Not a number:  nan\n",
      "zip code error:  118003\n",
      "Not a number:  nan\n",
      "zip code error:  902445\n",
      "Not a number:  SSAU\n",
      "Not a number:  nan\n",
      "Not a number:  NEW JERSEY\n",
      "Not a number:  N0RTH BRUNSWIC\n",
      "Not a number:  nan\n",
      "Not a number:  NEW JERSEY\n",
      "zip code error:  941045\n",
      "Not a number:  MIDDLESEX\n",
      "Not a number:  MCLENN\n",
      "Not a number:  nan\n",
      "zip code error:  484369\n",
      "zip code error:  711219\n",
      "Not a number:  NEW Y0RK\n",
      "zip code error:  541511\n",
      "zip code error:  685090\n",
      "zip code error:  100212\n"
     ]
    }
   ],
   "source": [
    "data.EMPLOYER_POSTAL_CODE = data['EMPLOYER_POSTAL_CODE'].apply(utils.update_fix_zip)"
   ]
  },
  {
   "cell_type": "code",
   "execution_count": 17,
   "metadata": {
    "collapsed": false
   },
   "outputs": [
    {
     "data": {
      "text/plain": [
       "111"
      ]
     },
     "execution_count": 17,
     "metadata": {},
     "output_type": "execute_result"
    }
   ],
   "source": [
    "data.EMPLOYER_POSTAL_CODE.isnull().sum()"
   ]
  },
  {
   "cell_type": "code",
   "execution_count": 18,
   "metadata": {
    "collapsed": false
   },
   "outputs": [
    {
     "data": {
      "text/plain": [
       "15"
      ]
     },
     "execution_count": 18,
     "metadata": {},
     "output_type": "execute_result"
    }
   ],
   "source": [
    "data.WORKSITE_POSTAL_CODE.isnull().sum()"
   ]
  },
  {
   "cell_type": "code",
   "execution_count": 19,
   "metadata": {
    "collapsed": false
   },
   "outputs": [
    {
     "name": "stdout",
     "output_type": "stream",
     "text": [
      "zip code error:  981109\n",
      "zip code error:  799103\n",
      "zip code error:  553443\n",
      "zip code error:  951354\n",
      "zip code error:  101676\n",
      "zip code error:  927702\n",
      "zip code error:  617913\n",
      "zip code error:  110167\n",
      "zip code error:  121244\n",
      "zip code error:  914133\n",
      "Not a number:  ARLINGT0N\n",
      "zip code error:  198014\n",
      "zip code error:  680892\n",
      "zip code error:  100036\n",
      "Not a number:  HARRIS\n",
      "Not a number:  CUYAH0GA\n",
      "zip code error:  483226\n",
      "zip code error:  100036\n",
      "zip code error:  275602\n",
      "Not a number:  TIPPECAN0E\n",
      "Not a number:  nan\n",
      "zip code error:  4630100\n",
      "zip code error:  5457900\n",
      "zip code error:  115627\n",
      "zip code error:  0853676155\n",
      "zip code error:  030328\n",
      "zip code error:  900015\n",
      "zip code error:  030303\n",
      "zip code error:  0853676155\n",
      "zip code error:  060606\n",
      "zip code error:  800528\n",
      "zip code error:  0853676155\n",
      "zip code error:  932547\n",
      "Not a number:  DALLAS\n",
      "zip code error:  018861\n",
      "zip code error:  156444\n",
      "zip code error:  106101\n",
      "zip code error:  100013\n",
      "zip code error:  9410509200\n",
      "Not a number:  HILLSB0R0UGH\n",
      "Not a number:  DALLAS\n",
      "zip code error:  947043\n",
      "zip code error:  392013\n",
      "Not a number:  HILLSB0R0UGH\n",
      "Not a number:  HILLSB0R0UGH\n",
      "Not a number:  HILLSB0R0UGH\n",
      "Not a number:  nan\n",
      "zip code error:  266506\n",
      "Not a number:  SANTA CLARA\n",
      "zip code error:  943010\n",
      "zip code error:  008869\n",
      "zip code error:  008869\n",
      "zip code error:  007030\n",
      "zip code error:  019713\n",
      "zip code error:  080237\n",
      "zip code error:  027513\n",
      "zip code error:  092626\n",
      "zip code error:  013202\n",
      "zip code error:  018861\n",
      "zip code error:  372027\n",
      "Not a number:  VIRGINIA\n",
      "zip code error:  7321853\n",
      "zip code error:  563258\n",
      "zip code error:  662223\n",
      "zip code error:  454040\n",
      "zip code error:  481201\n",
      "zip code error:  48\n",
      "Not a number:  NEW Y0RK\n",
      "Not a number:  MARIC0PA\n",
      "Not a number:  PHILADELPHIA\n",
      "zip code error:  940431\n",
      "zip code error:  007054\n",
      "zip code error:  151132\n",
      "Not a number:  HILLSB0R0UGH\n",
      "Not a number:  PH0ENIX\n",
      "zip code error:  331380\n",
      "zip code error:  018865\n",
      "zip code error:  19713511768\n",
      "zip code error:  900012\n",
      "Not a number:  HILLSB0R0UGH\n",
      "zip code error:  940431\n",
      "Not a number:  CA\n",
      "zip code error:  3723257901\n",
      "zip code error:  422421\n",
      "zip code error:  75\n",
      "zip code error:  970006\n",
      "Not a number:  WILLIAMS0N\n",
      "zip code error:  100010\n",
      "zip code error:  111405\n",
      "zip code error:  074595\n",
      "zip code error:  100038\n",
      "Not a number:  S0MERSET\n",
      "zip code error:  0\n",
      "Not a number:  SANTA CLARA\n",
      "zip code error:  200006\n",
      "zip code error:  801123\n",
      "zip code error:  432149\n",
      "zip code error:  100118\n",
      "zip code error:  100001\n",
      "zip code error:  191032\n",
      "Not a number:  nan\n",
      "Not a number:  SANTA CLARA\n",
      "Not a number:  SANTA CLARA\n",
      "Not a number:  SANTA CLARA\n",
      "Not a number:  SANTA CLARA\n",
      "zip code error:  606543\n",
      "zip code error:  606543\n",
      "Not a number:  NEW Y0RK\n",
      "zip code error:  3702780124\n",
      "zip code error:  891012\n",
      "Not a number:  nan\n",
      "Not a number:  nan\n",
      "zip code error:  0170208933\n",
      "zip code error:  085052\n",
      "zip code error:  994105\n",
      "Not a number:  nan\n",
      "zip code error:  070780\n",
      "zip code error:  070780\n",
      "zip code error:  070083\n",
      "zip code error:  100001\n",
      "Not a number:  HENNEPIN C0UNT\n",
      "Not a number:  SUNNYVALE\n",
      "zip code error:  3170530014\n",
      "zip code error:  335921\n",
      "zip code error:  335921\n",
      "zip code error:  954301\n",
      "zip code error:  1\n",
      "zip code error:  1\n",
      "zip code error:  3001430381\n",
      "zip code error:  222009\n",
      "zip code error:  752334\n",
      "zip code error:  077027\n",
      "zip code error:  5348651\n",
      "zip code error:  8523483\n",
      "zip code error:  108805\n",
      "zip code error:  940043\n",
      "zip code error:  560033\n",
      "zip code error:  196462\n",
      "Not a number:  CARPINTERIA\n",
      "zip code error:  481224\n",
      "zip code error:  891012\n",
      "Not a number:  nan\n",
      "zip code error:  452349\n",
      "Not a number:  SANTA CLARA\n",
      "zip code error:  3031300\n",
      "zip code error:  606012\n",
      "Not a number:  nan\n",
      "zip code error:  927702\n",
      "zip code error:  044262\n",
      "Not a number:  SANTA CLARA\n",
      "Not a number:  KING\n",
      "Not a number:  nan\n",
      "zip code error:  852863\n",
      "zip code error:  4810348198\n",
      "Not a number:  SANTA CLARA\n",
      "zip code error:  196462\n",
      "Not a number:  NEED\n",
      "Not a number:  PH0ENIX\n",
      "zip code error:  918010\n",
      "Not a number:  HARRIS\n",
      "Not a number:  nan\n",
      "Not a number:  NEW Y0RK\n",
      "zip code error:  481224\n",
      "zip code error:  7794404\n",
      "zip code error:  534045\n",
      "zip code error:  752334\n",
      "Not a number:  nan\n",
      "Not a number:  P\n",
      "zip code error:  1003630328\n",
      "zip code error:  7926900\n",
      "zip code error:  777036\n",
      "Not a number:  DALLAS\n",
      "zip code error:  290016\n",
      "zip code error:  066790\n",
      "zip code error:  021116\n",
      "zip code error:  200016\n",
      "Not a number:  95678QQ\n",
      "Not a number:  BR00KLYN\n",
      "zip code error:  022115\n",
      "zip code error:  201475\n",
      "zip code error:  200016\n",
      "zip code error:  980390\n",
      "Not a number:  CENTRE\n",
      "zip code error:  377066\n",
      "zip code error:  606054\n",
      "zip code error:  201147\n",
      "zip code error:  113558\n",
      "zip code error:  027072\n",
      "zip code error:  600018\n",
      "zip code error:  730\n",
      "zip code error:  335921\n",
      "zip code error:  154241\n",
      "zip code error:  0\n",
      "zip code error:  75\n",
      "zip code error:  850007\n",
      "zip code error:  322\n",
      "zip code error:  980007\n",
      "zip code error:  4810348198\n",
      "zip code error:  201901\n",
      "zip code error:  478170\n",
      "zip code error:  201901\n",
      "zip code error:  951110\n",
      "zip code error:  045381\n",
      "zip code error:  333331\n",
      "zip code error:  333331\n",
      "Not a number:  SAN FRANCISC0\n",
      "zip code error:  995046\n",
      "zip code error:  327496\n",
      "zip code error:  100\n",
      "zip code error:  232119\n",
      "zip code error:  021412\n",
      "zip code error:  426204\n",
      "zip code error:  426204\n",
      "zip code error:  850007\n",
      "zip code error:  850007\n",
      "zip code error:  4810148288\n",
      "zip code error:  850007\n",
      "zip code error:  008855\n",
      "zip code error:  454102\n",
      "zip code error:  7286200\n",
      "zip code error:  232119\n",
      "Not a number:  07059\n",
      "zip code error:  080540\n",
      "Not a number:  0H 43067\n",
      "Not a number:  nan\n",
      "Not a number:  PA\n",
      "Not a number:  PA\n",
      "Not a number:  nan\n",
      "zip code error:  850008\n",
      "zip code error:  330309\n",
      "zip code error:  746653\n",
      "zip code error:  727176\n",
      "zip code error:  606054\n",
      "zip code error:  335921\n",
      "zip code error:  335921\n",
      "zip code error:  533703\n",
      "zip code error:  100007\n",
      "zip code error:  533703\n",
      "zip code error:  100007\n",
      "zip code error:  787682\n",
      "Not a number:  nan\n",
      "zip code error:  110566\n",
      "zip code error:  100017\n",
      "zip code error:  100118\n",
      "zip code error:  891012\n",
      "Not a number:  nan\n",
      "Not a number:  MPLAQUANUSIB\n",
      "zip code error:  100004\n",
      "zip code error:  3035430071\n",
      "zip code error:  432115\n",
      "zip code error:  210201\n",
      "zip code error:  200006\n",
      "Not a number:  UNKN0WN\n",
      "Not a number:  UNKN0WN\n",
      "Not a number:  UNKN0WN\n",
      "zip code error:  100036\n",
      "zip code error:  616111\n",
      "Not a number:  QU0T14604 QU0T\n",
      "zip code error:  841074\n",
      "zip code error:  029210\n",
      "Not a number:  RICHM0ND\n",
      "zip code error:  0\n",
      "zip code error:  0\n",
      "zip code error:  0\n",
      "zip code error:  0\n",
      "zip code error:  4800748462\n",
      "zip code error:  926114\n",
      "zip code error:  0853407105\n",
      "zip code error:  4810148288\n",
      "zip code error:  7523400\n",
      "zip code error:  200013\n",
      "Not a number:  M0NTG0MERY\n",
      "Not a number:  M0NTG0MERY\n",
      "zip code error:  801112\n",
      "zip code error:  100016\n",
      "zip code error:  231219\n",
      "zip code error:  7500175398\n",
      "zip code error:  4526335244\n",
      "zip code error:  4526335244\n",
      "zip code error:  4526335244\n",
      "zip code error:  4526335244\n",
      "zip code error:  4526335244\n",
      "zip code error:  4526335244\n",
      "Not a number:  LINC0LN\n",
      "zip code error:  303303\n",
      "zip code error:  012110\n",
      "zip code error:  7500175398\n",
      "zip code error:  7500175398\n",
      "zip code error:  733607\n",
      "zip code error:  900071\n",
      "zip code error:  303322\n"
     ]
    }
   ],
   "source": [
    "data.WORKSITE_POSTAL_CODE = data['WORKSITE_POSTAL_CODE'].apply(utils.update_fix_zip)"
   ]
  },
  {
   "cell_type": "code",
   "execution_count": 20,
   "metadata": {
    "collapsed": false
   },
   "outputs": [
    {
     "data": {
      "text/plain": [
       "291"
      ]
     },
     "execution_count": 20,
     "metadata": {},
     "output_type": "execute_result"
    }
   ],
   "source": [
    "data.WORKSITE_POSTAL_CODE.isnull().sum()"
   ]
  },
  {
   "cell_type": "code",
   "execution_count": 21,
   "metadata": {
    "collapsed": true
   },
   "outputs": [],
   "source": [
    "data[\"EMPLOYER_CITY\"]=data.EMPLOYER_CITY.apply(utils.uppercase_nopunct)\n",
    "data[\"EMPLOYER_STATE\"]=data.EMPLOYER_STATE.apply(utils.uppercase_nopunct)\n",
    "data[\"WORKSITE_CITY\"]=data.WORKSITE_CITY.apply(utils.uppercase_nopunct)\n",
    "data[\"WORKSITE_STATE\"]=data.WORKSITE_STATE.apply(utils.uppercase_nopunct)"
   ]
  },
  {
   "cell_type": "code",
   "execution_count": 23,
   "metadata": {
    "collapsed": false
   },
   "outputs": [
    {
     "data": {
      "text/html": [
       "<div>\n",
       "<table border=\"1\" class=\"dataframe\">\n",
       "  <thead>\n",
       "    <tr style=\"text-align: right;\">\n",
       "      <th></th>\n",
       "      <th>CASE_NUMBER</th>\n",
       "      <th>CASE_STATUS</th>\n",
       "      <th>CASE_SUBMITTED</th>\n",
       "      <th>DECISION_DATE</th>\n",
       "      <th>VISA_CLASS</th>\n",
       "      <th>EMPLOYMENT_START_DATE</th>\n",
       "      <th>EMPLOYMENT_END_DATE</th>\n",
       "      <th>EMPLOYER_NAME</th>\n",
       "      <th>EMPLOYER_ADDRESS</th>\n",
       "      <th>EMPLOYER_CITY</th>\n",
       "      <th>EMPLOYER_STATE</th>\n",
       "      <th>EMPLOYER_POSTAL_CODE</th>\n",
       "      <th>EMPLOYER_COUNTRY</th>\n",
       "      <th>EMPLOYER_PROVINCE</th>\n",
       "      <th>EMPLOYER_PHONE</th>\n",
       "      <th>EMPLOYER_PHONE_EXT</th>\n",
       "      <th>AGENT_ATTORNEY_NAME</th>\n",
       "      <th>AGENT_ATTORNEY_CITY</th>\n",
       "      <th>AGENT_ATTORNEY_STATE</th>\n",
       "      <th>JOB_TITLE</th>\n",
       "      <th>SOC_CODE</th>\n",
       "      <th>SOC_NAME</th>\n",
       "      <th>NAICS_CODE</th>\n",
       "      <th>TOTAL_WORKERS</th>\n",
       "      <th>FULL_TIME_POSITION</th>\n",
       "      <th>PREVAILING_WAGE</th>\n",
       "      <th>PW_UNIT_OF_PAY</th>\n",
       "      <th>PW_SOURCE</th>\n",
       "      <th>PW_SOURCE_YEAR</th>\n",
       "      <th>PW_SOURCE_OTHER</th>\n",
       "      <th>WAGE_RATE_OF_PAY_FROM</th>\n",
       "      <th>WAGE_RATE_OF_PAY_TO</th>\n",
       "      <th>WAGE_UNIT_OF_PAY</th>\n",
       "      <th>H-1B_DEPENDENT</th>\n",
       "      <th>WILLFUL_VIOLATOR</th>\n",
       "      <th>WORKSITE_CITY</th>\n",
       "      <th>WORKSITE_COUNTY</th>\n",
       "      <th>WORKSITE_STATE</th>\n",
       "      <th>WORKSITE_POSTAL_CODE</th>\n",
       "      <th>ORIGINAL_CERT_DATE</th>\n",
       "    </tr>\n",
       "  </thead>\n",
       "  <tbody>\n",
       "    <tr>\n",
       "      <th>67138</th>\n",
       "      <td>I-200-16336-545842</td>\n",
       "      <td>CERTIFIED</td>\n",
       "      <td>2016-12-01</td>\n",
       "      <td>2016-12-07</td>\n",
       "      <td>H-1B</td>\n",
       "      <td>2016-12-05</td>\n",
       "      <td>2019-12-04</td>\n",
       "      <td>BI LABS INC</td>\n",
       "      <td>517 ROUTE 1 S</td>\n",
       "      <td>ISELIN</td>\n",
       "      <td>NJ</td>\n",
       "      <td>08830</td>\n",
       "      <td>UNITED STATES OF AMERICA</td>\n",
       "      <td>NaN</td>\n",
       "      <td>7326364201</td>\n",
       "      <td>NaN</td>\n",
       "      <td>,</td>\n",
       "      <td>NaN</td>\n",
       "      <td>NaN</td>\n",
       "      <td>PROGRAMMER ANALYST</td>\n",
       "      <td>15-1131</td>\n",
       "      <td>COMPUTER PROGRAMMERS</td>\n",
       "      <td>541511.0</td>\n",
       "      <td>1</td>\n",
       "      <td>Y</td>\n",
       "      <td>55349.0</td>\n",
       "      <td>Year</td>\n",
       "      <td>OES</td>\n",
       "      <td>2016.0</td>\n",
       "      <td>OFLC ONLINE DATA CENTER</td>\n",
       "      <td>60000.0</td>\n",
       "      <td>0.0</td>\n",
       "      <td>Year</td>\n",
       "      <td>N</td>\n",
       "      <td>N</td>\n",
       "      <td>PLYMOUTH MEETING</td>\n",
       "      <td>MONTGOMERY</td>\n",
       "      <td>PW</td>\n",
       "      <td>19462</td>\n",
       "      <td>NaT</td>\n",
       "    </tr>\n",
       "  </tbody>\n",
       "</table>\n",
       "</div>"
      ],
      "text/plain": [
       "              CASE_NUMBER CASE_STATUS CASE_SUBMITTED DECISION_DATE VISA_CLASS  \\\n",
       "67138  I-200-16336-545842   CERTIFIED     2016-12-01    2016-12-07       H-1B   \n",
       "\n",
       "      EMPLOYMENT_START_DATE EMPLOYMENT_END_DATE EMPLOYER_NAME  \\\n",
       "67138            2016-12-05          2019-12-04   BI LABS INC   \n",
       "\n",
       "      EMPLOYER_ADDRESS EMPLOYER_CITY EMPLOYER_STATE EMPLOYER_POSTAL_CODE  \\\n",
       "67138    517 ROUTE 1 S        ISELIN             NJ                08830   \n",
       "\n",
       "               EMPLOYER_COUNTRY EMPLOYER_PROVINCE EMPLOYER_PHONE  \\\n",
       "67138  UNITED STATES OF AMERICA               NaN     7326364201   \n",
       "\n",
       "      EMPLOYER_PHONE_EXT AGENT_ATTORNEY_NAME AGENT_ATTORNEY_CITY  \\\n",
       "67138                NaN                   ,                 NaN   \n",
       "\n",
       "      AGENT_ATTORNEY_STATE           JOB_TITLE SOC_CODE              SOC_NAME  \\\n",
       "67138                  NaN  PROGRAMMER ANALYST  15-1131  COMPUTER PROGRAMMERS   \n",
       "\n",
       "       NAICS_CODE  TOTAL_WORKERS FULL_TIME_POSITION  PREVAILING_WAGE  \\\n",
       "67138    541511.0              1                  Y          55349.0   \n",
       "\n",
       "      PW_UNIT_OF_PAY PW_SOURCE  PW_SOURCE_YEAR          PW_SOURCE_OTHER  \\\n",
       "67138           Year       OES          2016.0  OFLC ONLINE DATA CENTER   \n",
       "\n",
       "       WAGE_RATE_OF_PAY_FROM  WAGE_RATE_OF_PAY_TO WAGE_UNIT_OF_PAY  \\\n",
       "67138                60000.0                  0.0             Year   \n",
       "\n",
       "      H-1B_DEPENDENT WILLFUL_VIOLATOR     WORKSITE_CITY WORKSITE_COUNTY  \\\n",
       "67138              N                N  PLYMOUTH MEETING      MONTGOMERY   \n",
       "\n",
       "      WORKSITE_STATE WORKSITE_POSTAL_CODE ORIGINAL_CERT_DATE  \n",
       "67138             PW                19462                NaT  "
      ]
     },
     "execution_count": 23,
     "metadata": {},
     "output_type": "execute_result"
    }
   ],
   "source": [
    "data[data['WORKSITE_STATE']=='PW']"
   ]
  },
  {
   "cell_type": "code",
   "execution_count": 24,
   "metadata": {
    "collapsed": false
   },
   "outputs": [],
   "source": [
    "data.WORKSITE_STATE = data.WORKSITE_STATE.replace('PW', 'PA')"
   ]
  },
  {
   "cell_type": "code",
   "execution_count": 25,
   "metadata": {
    "collapsed": false
   },
   "outputs": [
    {
     "data": {
      "text/plain": [
       "15"
      ]
     },
     "execution_count": 25,
     "metadata": {},
     "output_type": "execute_result"
    }
   ],
   "source": [
    "data.EMPLOYER_STATE.isnull().sum()"
   ]
  },
  {
   "cell_type": "code",
   "execution_count": 26,
   "metadata": {
    "collapsed": false
   },
   "outputs": [
    {
     "name": "stdout",
     "output_type": "stream",
     "text": [
      "Old state was FM and new state is FL\n",
      "Old state was nan and new state is CA Case Number: I-200-16306-591423\n",
      "Old state was AS and new state is WA\n",
      "Old state was nan and new state is MA Case Number: I-200-17059-270290\n",
      "Old state was nan and new state is MA Case Number: I-200-17062-703263\n"
     ]
    }
   ],
   "source": [
    "data.EMPLOYER_STATE = data[['CASE_NUMBER','EMPLOYER_STATE', 'EMPLOYER_POSTAL_CODE']].apply(utils.update_fix_states, axis =1)"
   ]
  },
  {
   "cell_type": "code",
   "execution_count": 27,
   "metadata": {
    "collapsed": false
   },
   "outputs": [
    {
     "data": {
      "text/plain": [
       "12"
      ]
     },
     "execution_count": 27,
     "metadata": {},
     "output_type": "execute_result"
    }
   ],
   "source": [
    "data.EMPLOYER_STATE.isnull().sum()"
   ]
  },
  {
   "cell_type": "code",
   "execution_count": 28,
   "metadata": {
    "collapsed": false
   },
   "outputs": [
    {
     "data": {
      "text/plain": [
       "7"
      ]
     },
     "execution_count": 28,
     "metadata": {},
     "output_type": "execute_result"
    }
   ],
   "source": [
    "data.WORKSITE_STATE.isnull().sum()"
   ]
  },
  {
   "cell_type": "code",
   "execution_count": 29,
   "metadata": {
    "collapsed": false
   },
   "outputs": [
    {
     "name": "stdout",
     "output_type": "stream",
     "text": [
      "Old state was nan and new state is DE Case Number: I-200-16301-945047\n",
      "Old state was nan and new state is IN Case Number: I-200-17034-707367\n",
      "Old state was FM and new state is FL Case Number: I-200-17048-549460\n",
      "Old state was nan and new state is CA Case Number: I-200-17061-694427\n"
     ]
    }
   ],
   "source": [
    "data.WORKSITE_STATE = data[['CASE_NUMBER','WORKSITE_STATE', 'WORKSITE_POSTAL_CODE']].apply(utils.worksite_fix_states, axis =1)"
   ]
  },
  {
   "cell_type": "code",
   "execution_count": 30,
   "metadata": {
    "collapsed": false
   },
   "outputs": [
    {
     "data": {
      "text/plain": [
       "4"
      ]
     },
     "execution_count": 30,
     "metadata": {},
     "output_type": "execute_result"
    }
   ],
   "source": [
    "data.WORKSITE_STATE.isnull().sum()"
   ]
  },
  {
   "cell_type": "code",
   "execution_count": 31,
   "metadata": {
    "collapsed": false
   },
   "outputs": [],
   "source": [
    "data.JOB_TITLE = data['JOB_TITLE'].apply(utils.emp_address)"
   ]
  },
  {
   "cell_type": "code",
   "execution_count": 32,
   "metadata": {
    "collapsed": true
   },
   "outputs": [],
   "source": [
    " data['DOT_CODE'] = None"
   ]
  },
  {
   "cell_type": "code",
   "execution_count": 33,
   "metadata": {
    "collapsed": false
   },
   "outputs": [
    {
     "name": "stdout",
     "output_type": "stream",
     "text": [
      "SOC code error:  113-1161 | 113-1161\n",
      "SOC code error:  15-119.08 | 15-119.08\n",
      "SOC code error:  030 | 030\n",
      "SOC code error:  1-1132 | 1-1132\n",
      "SOC code error:  15-11212 | 15-11212\n",
      "SOC code error:  COMPUTER OCCUPATIONS, ALL OTHER | COMPUTEROCCUPATIONS,ALLOTHER\n",
      "SOC code error:  SOFTWARE DEVELOPERS, APPLICATIONS | SOFTWAREDEVELOPERS,APPLICATIONS\n",
      "SOC code error:  SOFTWARE DEVELOPERS, APPLICATIONS | SOFTWAREDEVELOPERS,APPLICATIONS\n",
      "SOC code error:  COMPUTER SYSTEMS ANALYST | COMPUTERSYSTEMSANALYST\n",
      "SOC code error:  MECHANICAL ENGINEERS | MECHANICALENGINEERS\n",
      "SOC code error:  SOFTWARE DEVELOPERS, APPLICATIONS | SOFTWAREDEVELOPERS,APPLICATIONS\n",
      "SOC code error:  ELECTRICAL ENGINEERS | ELECTRICALENGINEERS\n",
      "SOC code error:  15-119.02 | 15-119.02\n",
      "SOC code error:  ENGINEERS, ALL OTHER | ENGINEERS,ALLOTHER\n",
      "SOC code error:  13-161 | 13-161\n"
     ]
    }
   ],
   "source": [
    " data.SOC_CODE = data.SOC_CODE.apply(utils.update_fix_socCode)"
   ]
  },
  {
   "cell_type": "code",
   "execution_count": 34,
   "metadata": {
    "collapsed": false
   },
   "outputs": [
    {
     "data": {
      "text/plain": [
       "array(['15-1121', '15-2031', '15-1131', '15-1199', '13-2041', '13-2099',\n",
       "       '13-1111', '13-1161', '15-1132', '19-1029', '25-2031', '19-1021',\n",
       "       '11-2022', '19-1042', '15-2041', '19-1013', '17-2072', '17-2081',\n",
       "       '25-9031', '11-3021', '21-1014', '13-2051', '15-1133', '15-1134',\n",
       "       '11-2021', '17-2071', '17-3011', '27-3042', '19-4021', '25-1066',\n",
       "       '23-1011', '17-3027', '29-1069', '19-2032', '13-1199', '27-1021',\n",
       "       '17-2199', '13-1071', '15-1035', '29-1021', '15-1142', '41-3031',\n",
       "       '13-2011', '15-1141', '41-9031', '29-1061', '19-1099', '17-1012',\n",
       "       '27-4032', '15-1037', '29-1051', '25-1123', '19-2043', '19-2021',\n",
       "       '19-2042', '17-2051', '29-1063', '15-1132.00', '15-1143', '17-2011',\n",
       "       '29-2011', '17-2131', '17-2141', '13-1041', '19-2012', '15-2021',\n",
       "       '29-1123', '19-4061', '11-3031', '27-3031', '11-9041', '11-9051',\n",
       "       '25-1054', '17-2031', '15-1111', '17-2112', '15-1122', '25-1022',\n",
       "       '13-1121', '13-1081', '21-1023', '43-4071', '11-3071', '25-1125',\n",
       "       '19-2031', '29-1065', '21-2021', '29-1151', '25-2022', '15-1152',\n",
       "       '17-2041', '25-1071', '25-1042', '29-9091', '19-1042.00', '25-1032',\n",
       "       '27-1014', '19-3051', '27-3099', '17-2061', '11-1021', '25-9011',\n",
       "       '17-2063', '19-3099', '17-3023', '25-1052', '11-9033', '27-3091',\n",
       "       '13-1151', '27-1024', '11-1011', '25-1021', '29-1062', '11-9199',\n",
       "       '21-1012', '15-1199.02', '29-9099', '25-1011', '25-2021', '17-2053',\n",
       "       '17-2076', '25-1063', '29-1021.00', '15-1052', '25-1072', '25-1053',\n",
       "       '11-2031', '11-9021', '29-1122', '15-1151', '11-3051', '27-4021',\n",
       "       '15-2041.02', '21-1013', '29-1131', '11-9121', '11-3121', '11-2011',\n",
       "       '11-3061', '25-1065', '19-1012', '27-1027', '13-1051', '13-2052',\n",
       "       '29-1071', '27-2012', '21-1093', '19-3039', '15-1799', '17-2121',\n",
       "       '11-3011', '29-9092', '11-9031', '17-1011', '29-1029', '27-2041',\n",
       "       '25-4012', '19-3011', '19-3031', '15-1199.08', '25-9021', '25-1041',\n",
       "       '29-1067', '11-9141', '25-1062', '19-3022', '17-2112.00', '39-2021',\n",
       "       '25-2011', '21-1022', '29-1199', '17-2144', '31-9095', '13-2061',\n",
       "       '27-3041', '27-1022', '27-1025', '11-9111', '27-1029', '19-1022',\n",
       "       '17-2074', '25-1113', '25-1124', '15-1199.09', '15-1034', '15-1053',\n",
       "       '15-2011', '11-9151', '13-2051.00', '13-1141', '39-9041', '29-1066',\n",
       "       '11-9039', '19-2041', '25-1122', '29-1065.00', '15-1023', '41-9012',\n",
       "       '19-4099', '17-3029', '41-9031.00', '23-2099', '17-2199.02',\n",
       "       '41-4012', '23-2011', '29-1127', '17-2051.00', '17-2021',\n",
       "       '15-1199.01', '51-4012', '19-1011', '19-2099', '27-3043', '19-4031',\n",
       "       '17-2161', '21-1019', '27-3022', '29-1041', '25-1061', '19-3092',\n",
       "       '29-1141', '113-1161', '13-2031', '11-9032', '27-1011', '17-3013',\n",
       "       '17-2171', '17-2111', '21-1021', '25-1121', '19-1041', '11-3131',\n",
       "       '43-3061', '13-1011', '15-1022', '35-1011', '25-4021', '27-2022',\n",
       "       '23-1012', '13-1022', '29-1171', '25-3099', '19-1023', '15-1021.00',\n",
       "       '29-9011', '11-9121.01', '19-1029.02', '29-1125', '11-9081',\n",
       "       '19-3093', '11-9013', '25-1194', '25-2053', '19-1021.00', '13-1023',\n",
       "       '43-4051', '17-1021', '29-1081', '29-2011.00', '19-4041',\n",
       "       '25-1011.00', '17-1022', '29-1011', '11-9111.00', '39-9032',\n",
       "       '29-1031', '21-1091', '15-1121.00', '25-1193', '25-1069', '25-1067',\n",
       "       '29-1128', '25-1199', '19-3094', '29-2012', '15-2099', '25-4013',\n",
       "       '49-2022', '17-2141.00', '39-2011', '17-3026', '25-1081', '31-9099',\n",
       "       '13-2082', '25-1191', '31-9092', '25-2031.00', '15-1031', '29-2091',\n",
       "       '13-2053', '25-2012', '25-1031', '25-1051', '13-1111.00', '25-1126',\n",
       "       '21-1011', '21-1015', '43-9111', '21-2011', '49-9061', '29-1064',\n",
       "       '15-1055', '51-9196', '17-3022', '25-3021', '25-1112', '21-1029',\n",
       "       '19-3041', '29-1024', '45-2011', '17-2151', '43-9199', '17-2071.00',\n",
       "       '15-1061.00', '25-1192', '13-1051.00', '19-2011', '17-2161.00',\n",
       "       '11-3111', '13-1131', '15-119.08', '15-1133.00', '41-3099',\n",
       "       '41-4011', '25-2052', '19-1031', '43-5061', '43-6011', '25-9099',\n",
       "       '19-2041.00', '43-9011', '17-2199.99', '29-1123.00', '15-2041.01',\n",
       "       '43-1011', '53-2011', '39-7012', '17-2199.04', '25-2021.00',\n",
       "       '25-2054', '13-2099.01', '41-3098', '41-3011', '19-3032', '25-3011',\n",
       "       '53-6051.08', '39-9031', '15-1036', '13-1031', '19-1029.03',\n",
       "       '11-1021.00', '25-1043', '25-2041', '11-9161', '41-9021', '43-3031',\n",
       "       '25-9041', '29-1022', '15-1199.07', '17-2199.07', '31-9096',\n",
       "       '49-3011', '39-5094', '13-2072', '15-1054', '29-1063.00', '27-4011',\n",
       "       '15-1031.00', '25-2023', '11-9199.01', '25-9031.01', '27-1025.00',\n",
       "       '47-2152', '25-1111', '030', '21-1099', '17-2081.00', '51-9012',\n",
       "       '17-2041.00', '15-1099.11', '51-6092', '43-4181', '45-2021',\n",
       "       '13-2011.01', '37-2011', '41-1012', '47-4099', '27-1024.00',\n",
       "       '39-5012', '43-6014', '51-9199', '23-1022', '19-4021.00', '27-2099',\n",
       "       '25-3999', '43-4111', '19-1029.01', '19-2032.00', '21-2099',\n",
       "       '41-3041', '13-1041.00', '41-3021', '1-1132', '13-2071', '25-2059',\n",
       "       '31-1014', '15-1051.00', '41-9011', '19-2099.01', '15-1150',\n",
       "       '13-2021', '11-3021.00', '29-9012', '45-1011', '21-1015.00',\n",
       "       '19-4011', '31-9091', '29-1023', '31-2021', '41-3031.03',\n",
       "       '11-9041.00', '27-4012', '19-3011.00', '27-1019', '25-1064',\n",
       "       '27-4014', '17-3021', '25-1082', '13-2011.00', '15-1199.06',\n",
       "       '17-2062', '19-3091', '29-2099', '45-2092', '15-1199.10',\n",
       "       '29-1041.00', '47-2121', '21-1094', '19-2023', '41-9022',\n",
       "       '29-1051.00', '17-2143', '19-2012.00', '53-5021', '15-1142.00',\n",
       "       '27-4031', '17-3024', '33-3021', '49-2093', '15-2091', '51-6052',\n",
       "       '15-1099.01', '43-9081', '43-9041', '27-3031.00', '47-2061',\n",
       "       '45-2091', '51-2011', '29-2071', '19-4051', '25-4011', '43-9031',\n",
       "       '27-1023', '29-1129', '47-1011', '29-2056', '29-1111', '13-1151.00',\n",
       "       '29-2032', '41-1011', '17-3025', '17-2073', '19-3094.00',\n",
       "       '27-3022.00', '11-9199.03', '41-9099', '15-11212', '27-3042.00',\n",
       "       '17-2141.02', '15-1036.00', '25-1063.00', '35-2014', '15-1099.09',\n",
       "       '17-3029.05', '39-5092', '53-1021', '11-3051.00', '19-2031.00',\n",
       "       '15-1199.00', '29-1181', '27-2042', '41-2031', '15-1141.00',\n",
       "       '17-3019', '13-1075', '29-2031', '43-9111.01', '29-1127.00',\n",
       "       '25-2051', '17-2052', '13-2081', '51-9081', '13-2099.02',\n",
       "       '19-4061.01', '29-2052', '17-2144.00', '17-2031.00', '49-9021',\n",
       "       '13-1081.00', '43-5011', '49-9062', '27-1014.00', '17-2112.01',\n",
       "       '11-9199.02', '13-1081.01', '51-9071', '29-9092.00', '43-9061',\n",
       "       'COMPUTEROCCUPATIONS,ALLOTHER', '37-3011', '51-6041', '15-1411',\n",
       "       '15-1799.00', '19-1032', '25-1071.00', '15-1032', '53-6099',\n",
       "       '29-1069.00', '29-1062.00', '53-6051', '17-1011.00', '11-3051.01',\n",
       "       '19-4091', '11-3031.00', 'SOFTWAREDEVELOPERS,APPLICATIONS',\n",
       "       '17-2075', '25-2032', '53-6041', '35-3011', '27-1012', '49-2095',\n",
       "       '17-2199.05', '29-2021', '47-2051', '17-2072.00', '25-2011.00',\n",
       "       '15-2041.00', 'COMPUTERSYSTEMSANALYST', '43-4161', '31-9093',\n",
       "       '15-2031.00', '27-2021', '17-2141.01', '27-2032', '17-2199.03',\n",
       "       '35-1012', '19-3092.00', '13-1199.99', '43-6012', '15-1051',\n",
       "       '39-4031', '13-1161.00', 'MECHANICALENGINEERS', '27-3021',\n",
       "       '15-1099.10', '17-2199.08', '29-2034', '15-1099.02', '15-1032.00',\n",
       "       '15-1199.04', '43-4031', '29-1069.99', '27-3011', '27-2022.00',\n",
       "       '13-1073.00', '19-3051.00', '51-1011', '13-1021', '19-4092',\n",
       "       '39-9011', '29-1029.00', '51-4061', '15-1131.00', '27-1029.00',\n",
       "       '35-3041', '17-3012', 'ELECTRICALENGINEERS', '43-3011',\n",
       "       '19-4061.00', '13-1081.02', '19-2011.00', '25-2022.00', '15-1071',\n",
       "       '29-1126', '51-2099', '27-1013', '25-3021.00', '15-119.02',\n",
       "       '11-9199.04', '49-9063', '29-2055', '17-3011.01', '43-4131',\n",
       "       '19-3021.00', '25-1067.00', '53-2022', '41-3011.00', '51-8031',\n",
       "       '11-9051.00', '15-2011.00', 'ENGINEERS,ALLOTHER', '26-1065',\n",
       "       '47-2231', '29-1064.00', '17-2199.00', '49-9069', '11-2021.00',\n",
       "       '29-1069.04', '43-4081', '45-2099', '49-1011', '13-1199.05',\n",
       "       '41-9091', '51-9061', '27-2012.03', '15-1199.03', '17-2199.11',\n",
       "       '29-1066.00', '27-3041.00', '29-2061', '29-1124', '37-3013',\n",
       "       '43-3099', '11-9199.06', '11-2011.00', '21-1012.00', '51-3099',\n",
       "       '51-3011', '27-1022.00', '17-3031', '25-3099.99', '27-3021.00',\n",
       "       '51-2092', '43-4199', '37-1012', '25-3099.00', '31-1012', '49-9041',\n",
       "       '49-2098', '43-4011', '51-4121', '47-4011', '49-3021', '15-1130',\n",
       "       '11-3011.00', '13-1078', '27-1021.00', '35-2019', '19-1011.00',\n",
       "       '19-1012.00', '29-1122.00', '39-1021', '49-3023', '29-2032.00',\n",
       "       '17-2121.01', '25-1032.00', '35-3031', '53-2012', '19-3099.01',\n",
       "       '49-9071', '27-2011', '47-2181', '13-2015', '13-161', '11-9199.99',\n",
       "       '37-1011', '19-3022.00', '11-9021.00', '49-9099', '13-1041.07',\n",
       "       '35-2021', '27-2031', '17-2051.01', '49-9098', '27-2012.01',\n",
       "       '51-2041', '19-1021.01'], dtype=object)"
      ]
     },
     "execution_count": 34,
     "metadata": {},
     "output_type": "execute_result"
    }
   ],
   "source": [
    "data.SOC_CODE.unique()"
   ]
  },
  {
   "cell_type": "code",
   "execution_count": 35,
   "metadata": {
    "collapsed": false
   },
   "outputs": [
    {
     "data": {
      "text/plain": [
       "0"
      ]
     },
     "execution_count": 35,
     "metadata": {},
     "output_type": "execute_result"
    }
   ],
   "source": [
    "data.TOTAL_WORKERS.isnull().sum()"
   ]
  },
  {
   "cell_type": "code",
   "execution_count": 36,
   "metadata": {
    "collapsed": false
   },
   "outputs": [],
   "source": [
    "data.EMPLOYER_PHONE = data.EMPLOYER_PHONE.apply(utils.emp_address)"
   ]
  },
  {
   "cell_type": "code",
   "execution_count": 37,
   "metadata": {
    "collapsed": false
   },
   "outputs": [],
   "source": [
    "data['EMPLOYER_AREA_CODE'] = [\n",
    "    str(i)[:3] if len(str(i)) == 10 else np.nan for i in data['EMPLOYER_PHONE']\n",
    "]"
   ]
  },
  {
   "cell_type": "code",
   "execution_count": 38,
   "metadata": {
    "collapsed": false
   },
   "outputs": [
    {
     "data": {
      "text/plain": [
       "array(['Year', 'Hour', 'Month', 'Bi-Weekly', 'Week', nan], dtype=object)"
      ]
     },
     "execution_count": 38,
     "metadata": {},
     "output_type": "execute_result"
    }
   ],
   "source": [
    "data['WAGE_UNIT_OF_PAY'].unique()"
   ]
  },
  {
   "cell_type": "code",
   "execution_count": 39,
   "metadata": {
    "collapsed": true
   },
   "outputs": [],
   "source": [
    "data['WAGE_UNIT_OF_PAY'] = data['WAGE_UNIT_OF_PAY'].apply(utils.fix_unitOfPay)"
   ]
  },
  {
   "cell_type": "code",
   "execution_count": 40,
   "metadata": {
    "collapsed": false
   },
   "outputs": [
    {
     "data": {
      "text/plain": [
       "array(['Y', 'H', 'M', 'B', 'W', None], dtype=object)"
      ]
     },
     "execution_count": 40,
     "metadata": {},
     "output_type": "execute_result"
    }
   ],
   "source": [
    "data['WAGE_UNIT_OF_PAY'].unique()"
   ]
  },
  {
   "cell_type": "code",
   "execution_count": 41,
   "metadata": {
    "collapsed": false
   },
   "outputs": [
    {
     "data": {
      "text/plain": [
       "array(['Year', 'Hour', nan, 'Month', 'Bi-Weekly', 'Week'], dtype=object)"
      ]
     },
     "execution_count": 41,
     "metadata": {},
     "output_type": "execute_result"
    }
   ],
   "source": [
    "data['PW_UNIT_OF_PAY'].unique()"
   ]
  },
  {
   "cell_type": "code",
   "execution_count": 42,
   "metadata": {
    "collapsed": true
   },
   "outputs": [],
   "source": [
    "data['PW_UNIT_OF_PAY'] = data['PW_UNIT_OF_PAY'].apply(utils.fix_unitOfPay)"
   ]
  },
  {
   "cell_type": "code",
   "execution_count": 43,
   "metadata": {
    "collapsed": false
   },
   "outputs": [
    {
     "data": {
      "text/plain": [
       "array(['Y', 'H', None, 'M', 'B', 'W'], dtype=object)"
      ]
     },
     "execution_count": 43,
     "metadata": {},
     "output_type": "execute_result"
    }
   ],
   "source": [
    "data['PW_UNIT_OF_PAY'].unique()"
   ]
  },
  {
   "cell_type": "code",
   "execution_count": null,
   "metadata": {
    "collapsed": true
   },
   "outputs": [],
   "source": [
    "def calc_wage(x):\n",
    "    wf = x.WAGE_RATE_OF_PAY_FROM\n",
    "    wt = x.WAGE_RATE_OF_PAY_TO\n",
    "    if pd.isnull(wt):\n",
    "        return wf\n",
    "\n",
    "    if wf <=wt:\n",
    "        return (wf + wt)/2\n",
    "    else:\n",
    "        return wf"
   ]
  },
  {
   "cell_type": "code",
   "execution_count": 44,
   "metadata": {
    "collapsed": false
   },
   "outputs": [],
   "source": [
    "data['WAGE_RATE_OF_PAY_FROM'] = data['WAGE_RATE_OF_PAY_FROM'].replace(0, np.nan)\n",
    "data['WAGE_RATE_OF_PAY_TO'] = data['WAGE_RATE_OF_PAY_TO'].replace(0, np.nan)\n",
    "data['WAGE_RATE_OF_PAY'] = data[['WAGE_RATE_OF_PAY_FROM', 'WAGE_RATE_OF_PAY_TO']].apply(utils.calc_wage, axis =1)"
   ]
  },
  {
   "cell_type": "code",
   "execution_count": null,
   "metadata": {
    "collapsed": false
   },
   "outputs": [],
   "source": [
    "data.head(30)"
   ]
  },
  {
   "cell_type": "code",
   "execution_count": 46,
   "metadata": {
    "collapsed": false
   },
   "outputs": [
    {
     "data": {
      "text/plain": [
       "2"
      ]
     },
     "execution_count": 46,
     "metadata": {},
     "output_type": "execute_result"
    }
   ],
   "source": [
    "#LOOK AT YO CLEAN DATA\n",
    "data.WAGE_RATE_OF_PAY_FROM.isnull().sum()"
   ]
  },
  {
   "cell_type": "code",
   "execution_count": null,
   "metadata": {
    "collapsed": true
   },
   "outputs": [],
   "source": []
  },
  {
   "cell_type": "code",
   "execution_count": 48,
   "metadata": {
    "collapsed": false
   },
   "outputs": [],
   "source": [
    "#Select only the columns that your data has that are in the master list\n",
    "cdata = data[['CASE_SUBMITTED', 'CASE_NUMBER', 'CASE_STATUS', 'DECISION_DATE', 'VISA_CLASS',\n",
    "    'JOB_TITLE', 'DOT_CODE', 'SOC_CODE', 'SOC_NAME', 'FULL_TIME_POSITION',\n",
    "    'EMPLOYER_NAME', 'EMPLOYER_ADDRESS', 'EMPLOYER_CITY', 'EMPLOYER_STATE', 'EMPLOYER_POSTAL_CODE',\n",
    "    'EMPLOYER_AREA_CODE', 'NAICS_CODE', 'TOTAL_WORKERS', \n",
    "    'WORKSITE_CITY', 'WORKSITE_STATE', 'WORKSITE_POSTAL_CODE', \n",
    "    'WAGE_RATE_OF_PAY', 'WAGE_UNIT_OF_PAY', 'PREVAILING_WAGE', 'PW_UNIT_OF_PAY']]"
   ]
  },
  {
   "cell_type": "code",
   "execution_count": 49,
   "metadata": {
    "collapsed": false
   },
   "outputs": [
    {
     "data": {
      "text/html": [
       "<div>\n",
       "<table border=\"1\" class=\"dataframe\">\n",
       "  <thead>\n",
       "    <tr style=\"text-align: right;\">\n",
       "      <th></th>\n",
       "      <th>CASE_SUBMITTED</th>\n",
       "      <th>CASE_NUMBER</th>\n",
       "      <th>CASE_STATUS</th>\n",
       "      <th>DECISION_DATE</th>\n",
       "      <th>VISA_CLASS</th>\n",
       "      <th>JOB_TITLE</th>\n",
       "      <th>DOT_CODE</th>\n",
       "      <th>SOC_CODE</th>\n",
       "      <th>SOC_NAME</th>\n",
       "      <th>FULL_TIME_POSITION</th>\n",
       "      <th>EMPLOYER_NAME</th>\n",
       "      <th>EMPLOYER_ADDRESS</th>\n",
       "      <th>EMPLOYER_CITY</th>\n",
       "      <th>EMPLOYER_STATE</th>\n",
       "      <th>EMPLOYER_POSTAL_CODE</th>\n",
       "      <th>EMPLOYER_AREA_CODE</th>\n",
       "      <th>NAICS_CODE</th>\n",
       "      <th>TOTAL_WORKERS</th>\n",
       "      <th>WORKSITE_CITY</th>\n",
       "      <th>WORKSITE_STATE</th>\n",
       "      <th>WORKSITE_POSTAL_CODE</th>\n",
       "      <th>WAGE_RATE_OF_PAY</th>\n",
       "      <th>WAGE_UNIT_OF_PAY</th>\n",
       "      <th>PREVAILING_WAGE</th>\n",
       "      <th>PW_UNIT_OF_PAY</th>\n",
       "    </tr>\n",
       "  </thead>\n",
       "  <tbody>\n",
       "    <tr>\n",
       "      <th>0</th>\n",
       "      <td>2016-02-24</td>\n",
       "      <td>I-200-16055-173457</td>\n",
       "      <td>CERTIFIED-WITHDRAWN</td>\n",
       "      <td>2016-10-01</td>\n",
       "      <td>H-1B</td>\n",
       "      <td>ASSOCIATE DATA INTEGRATION</td>\n",
       "      <td>None</td>\n",
       "      <td>15-1121</td>\n",
       "      <td>COMPUTER SYSTEMS ANALYSTS</td>\n",
       "      <td>Y</td>\n",
       "      <td>DISCOVER PRODUCTS INC.</td>\n",
       "      <td>2500 LAKE COOK ROAD</td>\n",
       "      <td>RIVERWOODS</td>\n",
       "      <td>IL</td>\n",
       "      <td>60015</td>\n",
       "      <td>224</td>\n",
       "      <td>522210.0</td>\n",
       "      <td>1</td>\n",
       "      <td>RIVERWOODS</td>\n",
       "      <td>IL</td>\n",
       "      <td>60015</td>\n",
       "      <td>66565.5</td>\n",
       "      <td>Y</td>\n",
       "      <td>59197.0</td>\n",
       "      <td>Y</td>\n",
       "    </tr>\n",
       "    <tr>\n",
       "      <th>1</th>\n",
       "      <td>2016-03-04</td>\n",
       "      <td>I-200-16064-557834</td>\n",
       "      <td>CERTIFIED-WITHDRAWN</td>\n",
       "      <td>2016-10-01</td>\n",
       "      <td>H-1B</td>\n",
       "      <td>SENIOR ASSOCIATE</td>\n",
       "      <td>None</td>\n",
       "      <td>15-2031</td>\n",
       "      <td>OPERATIONS RESEARCH ANALYSTS</td>\n",
       "      <td>Y</td>\n",
       "      <td>DFS SERVICES LLC</td>\n",
       "      <td>2500 LAKE COOK ROAD</td>\n",
       "      <td>RIVERWOODS</td>\n",
       "      <td>IL</td>\n",
       "      <td>60015</td>\n",
       "      <td>224</td>\n",
       "      <td>522210.0</td>\n",
       "      <td>1</td>\n",
       "      <td>RIVERWOODS</td>\n",
       "      <td>IL</td>\n",
       "      <td>60015</td>\n",
       "      <td>55100.0</td>\n",
       "      <td>Y</td>\n",
       "      <td>49800.0</td>\n",
       "      <td>Y</td>\n",
       "    </tr>\n",
       "    <tr>\n",
       "      <th>2</th>\n",
       "      <td>2016-03-10</td>\n",
       "      <td>I-200-16063-996093</td>\n",
       "      <td>CERTIFIED-WITHDRAWN</td>\n",
       "      <td>2016-10-01</td>\n",
       "      <td>H-1B</td>\n",
       "      <td>NET SOFTWARE PROGRAMMER</td>\n",
       "      <td>None</td>\n",
       "      <td>15-1131</td>\n",
       "      <td>COMPUTER PROGRAMMERS</td>\n",
       "      <td>Y</td>\n",
       "      <td>EASTBANC TECHNOLOGIES LLC</td>\n",
       "      <td>1211 31ST ST NW</td>\n",
       "      <td>WASHINGTON</td>\n",
       "      <td>DC</td>\n",
       "      <td>20007</td>\n",
       "      <td>202</td>\n",
       "      <td>541511.0</td>\n",
       "      <td>2</td>\n",
       "      <td>WASHINGTON</td>\n",
       "      <td>DC</td>\n",
       "      <td>20007</td>\n",
       "      <td>77000.0</td>\n",
       "      <td>Y</td>\n",
       "      <td>76502.0</td>\n",
       "      <td>Y</td>\n",
       "    </tr>\n",
       "    <tr>\n",
       "      <th>3</th>\n",
       "      <td>2016-09-28</td>\n",
       "      <td>I-200-16272-196340</td>\n",
       "      <td>WITHDRAWN</td>\n",
       "      <td>2016-10-01</td>\n",
       "      <td>H-1B</td>\n",
       "      <td>PROJECT MANAGER</td>\n",
       "      <td>None</td>\n",
       "      <td>15-1199</td>\n",
       "      <td>COMPUTER OCCUPATIONS, ALL OTHER</td>\n",
       "      <td>Y</td>\n",
       "      <td>INFO SERVICES LLC</td>\n",
       "      <td>17177 NORTH LAUREL PARK DR</td>\n",
       "      <td>LIVONIA</td>\n",
       "      <td>MI</td>\n",
       "      <td>48152</td>\n",
       "      <td>734</td>\n",
       "      <td>541511.0</td>\n",
       "      <td>1</td>\n",
       "      <td>JERSEY CITY</td>\n",
       "      <td>NJ</td>\n",
       "      <td>07302</td>\n",
       "      <td>102000.0</td>\n",
       "      <td>Y</td>\n",
       "      <td>90376.0</td>\n",
       "      <td>Y</td>\n",
       "    </tr>\n",
       "    <tr>\n",
       "      <th>4</th>\n",
       "      <td>2015-02-22</td>\n",
       "      <td>I-200-15053-636744</td>\n",
       "      <td>CERTIFIED-WITHDRAWN</td>\n",
       "      <td>2016-10-02</td>\n",
       "      <td>H-1B</td>\n",
       "      <td>ASSOCIATE ESOTERIC ASSET BACKED SECURITIES</td>\n",
       "      <td>None</td>\n",
       "      <td>13-2041</td>\n",
       "      <td>CREDIT ANALYSTS</td>\n",
       "      <td>Y</td>\n",
       "      <td>BB&amp;T CORPORATION</td>\n",
       "      <td>223 WEST NASH STREET</td>\n",
       "      <td>WILSON</td>\n",
       "      <td>NC</td>\n",
       "      <td>27893</td>\n",
       "      <td>252</td>\n",
       "      <td>522110.0</td>\n",
       "      <td>1</td>\n",
       "      <td>NEW YORK</td>\n",
       "      <td>NY</td>\n",
       "      <td>10036</td>\n",
       "      <td>132500.0</td>\n",
       "      <td>Y</td>\n",
       "      <td>116605.0</td>\n",
       "      <td>Y</td>\n",
       "    </tr>\n",
       "  </tbody>\n",
       "</table>\n",
       "</div>"
      ],
      "text/plain": [
       "  CASE_SUBMITTED         CASE_NUMBER          CASE_STATUS DECISION_DATE  \\\n",
       "0     2016-02-24  I-200-16055-173457  CERTIFIED-WITHDRAWN    2016-10-01   \n",
       "1     2016-03-04  I-200-16064-557834  CERTIFIED-WITHDRAWN    2016-10-01   \n",
       "2     2016-03-10  I-200-16063-996093  CERTIFIED-WITHDRAWN    2016-10-01   \n",
       "3     2016-09-28  I-200-16272-196340            WITHDRAWN    2016-10-01   \n",
       "4     2015-02-22  I-200-15053-636744  CERTIFIED-WITHDRAWN    2016-10-02   \n",
       "\n",
       "  VISA_CLASS                                   JOB_TITLE DOT_CODE SOC_CODE  \\\n",
       "0       H-1B                  ASSOCIATE DATA INTEGRATION     None  15-1121   \n",
       "1       H-1B                            SENIOR ASSOCIATE     None  15-2031   \n",
       "2       H-1B                     NET SOFTWARE PROGRAMMER     None  15-1131   \n",
       "3       H-1B                             PROJECT MANAGER     None  15-1199   \n",
       "4       H-1B  ASSOCIATE ESOTERIC ASSET BACKED SECURITIES     None  13-2041   \n",
       "\n",
       "                          SOC_NAME FULL_TIME_POSITION  \\\n",
       "0        COMPUTER SYSTEMS ANALYSTS                  Y   \n",
       "1     OPERATIONS RESEARCH ANALYSTS                  Y   \n",
       "2             COMPUTER PROGRAMMERS                  Y   \n",
       "3  COMPUTER OCCUPATIONS, ALL OTHER                  Y   \n",
       "4                  CREDIT ANALYSTS                  Y   \n",
       "\n",
       "               EMPLOYER_NAME            EMPLOYER_ADDRESS EMPLOYER_CITY  \\\n",
       "0     DISCOVER PRODUCTS INC.         2500 LAKE COOK ROAD    RIVERWOODS   \n",
       "1           DFS SERVICES LLC         2500 LAKE COOK ROAD    RIVERWOODS   \n",
       "2  EASTBANC TECHNOLOGIES LLC             1211 31ST ST NW    WASHINGTON   \n",
       "3          INFO SERVICES LLC  17177 NORTH LAUREL PARK DR       LIVONIA   \n",
       "4           BB&T CORPORATION        223 WEST NASH STREET        WILSON   \n",
       "\n",
       "  EMPLOYER_STATE EMPLOYER_POSTAL_CODE EMPLOYER_AREA_CODE  NAICS_CODE  \\\n",
       "0             IL                60015                224    522210.0   \n",
       "1             IL                60015                224    522210.0   \n",
       "2             DC                20007                202    541511.0   \n",
       "3             MI                48152                734    541511.0   \n",
       "4             NC                27893                252    522110.0   \n",
       "\n",
       "   TOTAL_WORKERS WORKSITE_CITY WORKSITE_STATE WORKSITE_POSTAL_CODE  \\\n",
       "0              1    RIVERWOODS             IL                60015   \n",
       "1              1    RIVERWOODS             IL                60015   \n",
       "2              2    WASHINGTON             DC                20007   \n",
       "3              1   JERSEY CITY             NJ                07302   \n",
       "4              1      NEW YORK             NY                10036   \n",
       "\n",
       "   WAGE_RATE_OF_PAY WAGE_UNIT_OF_PAY  PREVAILING_WAGE PW_UNIT_OF_PAY  \n",
       "0           66565.5                Y          59197.0              Y  \n",
       "1           55100.0                Y          49800.0              Y  \n",
       "2           77000.0                Y          76502.0              Y  \n",
       "3          102000.0                Y          90376.0              Y  \n",
       "4          132500.0                Y         116605.0              Y  "
      ]
     },
     "execution_count": 49,
     "metadata": {},
     "output_type": "execute_result"
    }
   ],
   "source": [
    "cdata.head()"
   ]
  },
  {
   "cell_type": "code",
   "execution_count": 50,
   "metadata": {
    "collapsed": true
   },
   "outputs": [],
   "source": [
    "#Write out your clean data to a file\n",
    "\n",
    "if not os.path.exists('cleaned_data'):\n",
    "        os.mkdir('cleaned_data')\n",
    "        \n",
    "new_filename=\"2017.csv\"\n",
    "cdata.to_csv(\"cleaned_data/{}\".format(new_filename), encoding='utf-8')"
   ]
  },
  {
   "cell_type": "code",
   "execution_count": null,
   "metadata": {
    "collapsed": true
   },
   "outputs": [],
   "source": []
  }
 ],
 "metadata": {
  "kernelspec": {
   "display_name": "Python 3",
   "language": "python",
   "name": "python3"
  },
  "language_info": {
   "codemirror_mode": {
    "name": "ipython",
    "version": 3
   },
   "file_extension": ".py",
   "mimetype": "text/x-python",
   "name": "python",
   "nbconvert_exporter": "python",
   "pygments_lexer": "ipython3",
   "version": "3.4.4"
  }
 },
 "nbformat": 4,
 "nbformat_minor": 2
}
