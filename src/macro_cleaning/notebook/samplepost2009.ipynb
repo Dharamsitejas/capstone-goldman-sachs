{
 "cells": [
  {
   "cell_type": "code",
   "execution_count": 1,
   "metadata": {
    "collapsed": true
   },
   "outputs": [],
   "source": [
    "import pandas as pd\n",
    "import numpy as np"
   ]
  },
  {
   "cell_type": "code",
   "execution_count": 2,
   "metadata": {
    "collapsed": true
   },
   "outputs": [],
   "source": [
    "data = pd.read_csv(\"../../clean/macro/master_macro_cleaned_naics.csv\",encoding='utf-8',dtype=str)"
   ]
  },
  {
   "cell_type": "code",
   "execution_count": 3,
   "metadata": {
    "collapsed": false
   },
   "outputs": [
    {
     "data": {
      "text/plain": [
       "Index(['CASE_NUMBER', 'CASE_STATUS', 'CASE_SUBMITTED', 'DATE_SIGNED',\n",
       "       'DECISION_DATE', 'DOT_CODE', 'DOT_NAME', 'EMPLOYER_ADDRESS',\n",
       "       'EMPLOYER_AREA_CODE', 'EMPLOYER_CITY', 'EMPLOYER_NAME',\n",
       "       'EMPLOYER_POSTAL_CODE', 'EMPLOYER_STATE', 'FULL_TIME_POSITION',\n",
       "       'JOB_TITLE', 'NAICS_CLASSIFICATION', 'NAIC_CODE',\n",
       "       'PREVAILING_WAGE_CALCULATED', 'SOC_CODE', 'SOC_NAME', 'SOURCE_FILE',\n",
       "       'TOTAL_WORKERS', 'VISA_CLASS', 'WAGE_RATE_OF_PAY_CALCULATED',\n",
       "       'WITHDRAWN', 'WORKSITE_CITY', 'WORKSITE_POSTAL_CODE', 'WORKSITE_STATE'],\n",
       "      dtype='object')"
      ]
     },
     "execution_count": 3,
     "metadata": {},
     "output_type": "execute_result"
    }
   ],
   "source": [
    "data.columns"
   ]
  },
  {
   "cell_type": "code",
   "execution_count": 4,
   "metadata": {
    "collapsed": false
   },
   "outputs": [
    {
     "data": {
      "text/plain": [
       "(5916802, 28)"
      ]
     },
     "execution_count": 4,
     "metadata": {},
     "output_type": "execute_result"
    }
   ],
   "source": [
    "data.shape"
   ]
  },
  {
   "cell_type": "code",
   "execution_count": 5,
   "metadata": {
    "collapsed": false
   },
   "outputs": [],
   "source": [
    "reduced_columns = data[['CASE_SUBMITTED', 'EMPLOYER_STATE', 'WORKSITE_STATE', 'NAICS_CLASSIFICATION', 'TOTAL_WORKERS']]"
   ]
  },
  {
   "cell_type": "code",
   "execution_count": 6,
   "metadata": {
    "collapsed": false
   },
   "outputs": [
    {
     "name": "stderr",
     "output_type": "stream",
     "text": [
      "/Library/Frameworks/Python.framework/Versions/3.4/lib/python3.4/site-packages/ipykernel/__main__.py:1: SettingWithCopyWarning: \n",
      "A value is trying to be set on a copy of a slice from a DataFrame.\n",
      "Try using .loc[row_indexer,col_indexer] = value instead\n",
      "\n",
      "See the caveats in the documentation: http://pandas.pydata.org/pandas-docs/stable/indexing.html#indexing-view-versus-copy\n",
      "  if __name__ == '__main__':\n"
     ]
    }
   ],
   "source": [
    "reduced_columns['CASE_SUBMITTED']=pd.to_datetime(reduced_columns['CASE_SUBMITTED'],format='%Y-%m-%d')"
   ]
  },
  {
   "cell_type": "code",
   "execution_count": 7,
   "metadata": {
    "collapsed": false
   },
   "outputs": [],
   "source": [
    "reduced_years = reduced_columns[(reduced_columns.CASE_SUBMITTED >= '2009-07-01')]"
   ]
  },
  {
   "cell_type": "code",
   "execution_count": 8,
   "metadata": {
    "collapsed": false
   },
   "outputs": [
    {
     "data": {
      "text/plain": [
       "54"
      ]
     },
     "execution_count": 8,
     "metadata": {},
     "output_type": "execute_result"
    }
   ],
   "source": [
    "reduced_years.NAICS_CLASSIFICATION.isnull().sum()"
   ]
  },
  {
   "cell_type": "code",
   "execution_count": 9,
   "metadata": {
    "collapsed": false
   },
   "outputs": [
    {
     "data": {
      "text/plain": [
       "(3396505, 5)"
      ]
     },
     "execution_count": 9,
     "metadata": {},
     "output_type": "execute_result"
    }
   ],
   "source": [
    "reduced_years.shape"
   ]
  },
  {
   "cell_type": "code",
   "execution_count": 10,
   "metadata": {
    "collapsed": false
   },
   "outputs": [],
   "source": [
    "reduced_years.to_csv(\"../../clean/macro/post2009_naics.csv\",index=False, encoding='utf-8')"
   ]
  }
 ],
 "metadata": {
  "kernelspec": {
   "display_name": "Python 3",
   "language": "python",
   "name": "python3"
  },
  "language_info": {
   "codemirror_mode": {
    "name": "ipython",
    "version": 3
   },
   "file_extension": ".py",
   "mimetype": "text/x-python",
   "name": "python",
   "nbconvert_exporter": "python",
   "pygments_lexer": "ipython3",
   "version": "3.4.4"
  }
 },
 "nbformat": 4,
 "nbformat_minor": 2
}
